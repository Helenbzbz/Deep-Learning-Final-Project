{
 "cells": [
  {
   "cell_type": "markdown",
   "metadata": {
    "id": "VS_sagL36lQD"
   },
   "source": [
    "# CPCS 583 Project Final Submission\n",
    "Helen Zheng\\\n",
    "2023 Dec 12"
   ]
  },
  {
   "cell_type": "markdown",
   "metadata": {
    "id": "muuYywDE66W7"
   },
   "source": [
    "## Part 1. Data Exploration"
   ]
  },
  {
   "cell_type": "code",
   "execution_count": 1,
   "metadata": {
    "colab": {
     "base_uri": "https://localhost:8080/"
    },
    "id": "npGHdqfj6fGJ",
    "outputId": "8696b1ba-7e83-46ef-ce44-36dca792e695"
   },
   "outputs": [
    {
     "name": "stdout",
     "output_type": "stream",
     "text": [
      "Requirement already satisfied: torch in /Users/jielanzheng/anaconda3/lib/python3.11/site-packages (2.1.1)\n",
      "Requirement already satisfied: filelock in /Users/jielanzheng/anaconda3/lib/python3.11/site-packages (from torch) (3.9.0)\n",
      "Requirement already satisfied: typing-extensions in /Users/jielanzheng/anaconda3/lib/python3.11/site-packages (from torch) (4.7.1)\n",
      "Requirement already satisfied: sympy in /Users/jielanzheng/anaconda3/lib/python3.11/site-packages (from torch) (1.11.1)\n",
      "Requirement already satisfied: networkx in /Users/jielanzheng/anaconda3/lib/python3.11/site-packages (from torch) (3.1)\n",
      "Requirement already satisfied: jinja2 in /Users/jielanzheng/anaconda3/lib/python3.11/site-packages (from torch) (3.1.2)\n",
      "Requirement already satisfied: fsspec in /Users/jielanzheng/anaconda3/lib/python3.11/site-packages (from torch) (2023.4.0)\n",
      "Requirement already satisfied: MarkupSafe>=2.0 in /Users/jielanzheng/anaconda3/lib/python3.11/site-packages (from jinja2->torch) (2.1.1)\n",
      "Requirement already satisfied: mpmath>=0.19 in /Users/jielanzheng/anaconda3/lib/python3.11/site-packages (from sympy->torch) (1.3.0)\n",
      "Collecting git+https://github.com/pyg-team/pytorch_geometric.git\n",
      "  Cloning https://github.com/pyg-team/pytorch_geometric.git to /private/var/folders/pt/5rbd0ld57x7gny9rhwscbx_h0000gn/T/pip-req-build-ip38v_he\n",
      "  Running command git clone --filter=blob:none --quiet https://github.com/pyg-team/pytorch_geometric.git /private/var/folders/pt/5rbd0ld57x7gny9rhwscbx_h0000gn/T/pip-req-build-ip38v_he\n",
      "  Resolved https://github.com/pyg-team/pytorch_geometric.git to commit 9068ad70e7c46c807d39747d2a70cba7836ea82d\n",
      "  Installing build dependencies ... \u001b[?25ldone\n",
      "\u001b[?25h  Getting requirements to build wheel ... \u001b[?25ldone\n",
      "\u001b[?25h  Preparing metadata (pyproject.toml) ... \u001b[?25ldone\n",
      "\u001b[?25hRequirement already satisfied: tqdm in /Users/jielanzheng/anaconda3/lib/python3.11/site-packages (from torch_geometric==2.4.0) (4.65.0)\n",
      "Requirement already satisfied: numpy in /Users/jielanzheng/anaconda3/lib/python3.11/site-packages (from torch_geometric==2.4.0) (1.24.3)\n",
      "Requirement already satisfied: scipy in /Users/jielanzheng/anaconda3/lib/python3.11/site-packages (from torch_geometric==2.4.0) (1.10.1)\n",
      "Requirement already satisfied: fsspec in /Users/jielanzheng/anaconda3/lib/python3.11/site-packages (from torch_geometric==2.4.0) (2023.4.0)\n",
      "Requirement already satisfied: jinja2 in /Users/jielanzheng/anaconda3/lib/python3.11/site-packages (from torch_geometric==2.4.0) (3.1.2)\n",
      "Requirement already satisfied: aiohttp in /Users/jielanzheng/anaconda3/lib/python3.11/site-packages (from torch_geometric==2.4.0) (3.8.3)\n",
      "Requirement already satisfied: requests in /Users/jielanzheng/anaconda3/lib/python3.11/site-packages (from torch_geometric==2.4.0) (2.31.0)\n",
      "Requirement already satisfied: pyparsing in /Users/jielanzheng/anaconda3/lib/python3.11/site-packages (from torch_geometric==2.4.0) (3.0.9)\n",
      "Requirement already satisfied: scikit-learn in /Users/jielanzheng/anaconda3/lib/python3.11/site-packages (from torch_geometric==2.4.0) (1.3.0)\n",
      "Requirement already satisfied: psutil>=5.8.0 in /Users/jielanzheng/anaconda3/lib/python3.11/site-packages (from torch_geometric==2.4.0) (5.9.0)\n",
      "Requirement already satisfied: attrs>=17.3.0 in /Users/jielanzheng/anaconda3/lib/python3.11/site-packages (from aiohttp->torch_geometric==2.4.0) (22.1.0)\n",
      "Requirement already satisfied: charset-normalizer<3.0,>=2.0 in /Users/jielanzheng/anaconda3/lib/python3.11/site-packages (from aiohttp->torch_geometric==2.4.0) (2.0.4)\n",
      "Requirement already satisfied: multidict<7.0,>=4.5 in /Users/jielanzheng/anaconda3/lib/python3.11/site-packages (from aiohttp->torch_geometric==2.4.0) (6.0.2)\n",
      "Requirement already satisfied: async-timeout<5.0,>=4.0.0a3 in /Users/jielanzheng/anaconda3/lib/python3.11/site-packages (from aiohttp->torch_geometric==2.4.0) (4.0.2)\n",
      "Requirement already satisfied: yarl<2.0,>=1.0 in /Users/jielanzheng/anaconda3/lib/python3.11/site-packages (from aiohttp->torch_geometric==2.4.0) (1.8.1)\n",
      "Requirement already satisfied: frozenlist>=1.1.1 in /Users/jielanzheng/anaconda3/lib/python3.11/site-packages (from aiohttp->torch_geometric==2.4.0) (1.3.3)\n",
      "Requirement already satisfied: aiosignal>=1.1.2 in /Users/jielanzheng/anaconda3/lib/python3.11/site-packages (from aiohttp->torch_geometric==2.4.0) (1.2.0)\n",
      "Requirement already satisfied: MarkupSafe>=2.0 in /Users/jielanzheng/anaconda3/lib/python3.11/site-packages (from jinja2->torch_geometric==2.4.0) (2.1.1)\n",
      "Requirement already satisfied: idna<4,>=2.5 in /Users/jielanzheng/anaconda3/lib/python3.11/site-packages (from requests->torch_geometric==2.4.0) (3.4)\n",
      "Requirement already satisfied: urllib3<3,>=1.21.1 in /Users/jielanzheng/anaconda3/lib/python3.11/site-packages (from requests->torch_geometric==2.4.0) (1.26.16)\n",
      "Requirement already satisfied: certifi>=2017.4.17 in /Users/jielanzheng/anaconda3/lib/python3.11/site-packages (from requests->torch_geometric==2.4.0) (2023.7.22)\n",
      "Requirement already satisfied: joblib>=1.1.1 in /Users/jielanzheng/anaconda3/lib/python3.11/site-packages (from scikit-learn->torch_geometric==2.4.0) (1.2.0)\n",
      "Requirement already satisfied: threadpoolctl>=2.0.0 in /Users/jielanzheng/anaconda3/lib/python3.11/site-packages (from scikit-learn->torch_geometric==2.4.0) (2.2.0)\n",
      "Looking in links: https://data.pyg.org/whl/torch-{torch.__version__}.html\n",
      "Requirement already satisfied: torch-sparse in /Users/jielanzheng/anaconda3/lib/python3.11/site-packages (0.6.18)\n",
      "Requirement already satisfied: scipy in /Users/jielanzheng/anaconda3/lib/python3.11/site-packages (from torch-sparse) (1.10.1)\n",
      "Requirement already satisfied: numpy<1.27.0,>=1.19.5 in /Users/jielanzheng/anaconda3/lib/python3.11/site-packages (from scipy->torch-sparse) (1.24.3)\n",
      "Looking in links: https://data.pyg.org/whl/torch-{torch.__version__}.html\n",
      "Requirement already satisfied: torch-scatter in /Users/jielanzheng/anaconda3/lib/python3.11/site-packages (2.1.2)\n",
      "Looking in links: https://data.pyg.org/whl/torch-{torch.__version__}.html\n",
      "Requirement already satisfied: torch-cluster in /Users/jielanzheng/anaconda3/lib/python3.11/site-packages (1.6.3)\n",
      "Requirement already satisfied: scipy in /Users/jielanzheng/anaconda3/lib/python3.11/site-packages (from torch-cluster) (1.10.1)\n",
      "Requirement already satisfied: numpy<1.27.0,>=1.19.5 in /Users/jielanzheng/anaconda3/lib/python3.11/site-packages (from scipy->torch-cluster) (1.24.3)\n"
     ]
    }
   ],
   "source": [
    "#@title Setup\n",
    "!pip install torch\n",
    "!pip install git+https://github.com/pyg-team/pytorch_geometric.git\n",
    "!pip install torch-sparse -f https://data.pyg.org/whl/torch-{torch.__version__}.html\n",
    "!pip install torch-scatter -f https://data.pyg.org/whl/torch-{torch.__version__}.html\n",
    "!pip install torch-cluster -f https://data.pyg.org/whl/torch-{torch.__version__}.html"
   ]
  },
  {
   "cell_type": "code",
   "execution_count": 1,
   "metadata": {
    "id": "pkIuLjD47gwc"
   },
   "outputs": [],
   "source": [
    "# Import Library\n",
    "import torch\n",
    "import torch.nn as nn\n",
    "import torch.nn.functional as F\n",
    "\n",
    "import torch_geometric.datasets as datasets\n",
    "import torch_scatter\n",
    "import torch_cluster\n",
    "import torch_sparse\n",
    "\n",
    "import numpy as np\n",
    "import pandas as pd\n",
    "import matplotlib.pyplot as plt\n",
    "import seaborn as sns"
   ]
  },
  {
   "cell_type": "code",
   "execution_count": 2,
   "metadata": {
    "colab": {
     "base_uri": "https://localhost:8080/"
    },
    "id": "FiSaRXLp7ssU",
    "outputId": "84f6540f-2362-463d-94fd-56392e95b4eb"
   },
   "outputs": [
    {
     "data": {
      "text/plain": [
       "device(type='cpu')"
      ]
     },
     "execution_count": 2,
     "metadata": {},
     "output_type": "execute_result"
    }
   ],
   "source": [
    "device = torch.device(\"cuda:0\" if torch.cuda.is_available() else \"cpu\")\n",
    "device"
   ]
  },
  {
   "cell_type": "code",
   "execution_count": 3,
   "metadata": {},
   "outputs": [],
   "source": [
    "import os\n",
    "pwd = os.getcwd()"
   ]
  },
  {
   "cell_type": "code",
   "execution_count": 271,
   "metadata": {
    "colab": {
     "base_uri": "https://localhost:8080/"
    },
    "id": "7865PCYG7m1t",
    "outputId": "eb61d591-df04-4a08-dcf7-50283e9fa857",
    "scrolled": true
   },
   "outputs": [
    {
     "data": {
      "text/plain": [
       "HeteroData(\n",
       "  movie={ x=[1682, 18] },\n",
       "  user={ x=[943, 24] },\n",
       "  (user, rates, movie)={\n",
       "    edge_index=[2, 80000],\n",
       "    rating=[80000],\n",
       "    time=[80000],\n",
       "    edge_label_index=[2, 20000],\n",
       "    edge_label=[20000],\n",
       "  },\n",
       "  (movie, rated_by, user)={\n",
       "    edge_index=[2, 80000],\n",
       "    rating=[80000],\n",
       "    time=[80000],\n",
       "  }\n",
       ")"
      ]
     },
     "execution_count": 271,
     "metadata": {},
     "output_type": "execute_result"
    }
   ],
   "source": [
    "#@title Download Dataset (Movie Lens 100K)\n",
    "dir1 = pwd + '/MovieLens100K'\n",
    "movielens = datasets.MovieLens100K(dir1)\n",
    "movielens[0]"
   ]
  },
  {
   "cell_type": "code",
   "execution_count": 5,
   "metadata": {
    "colab": {
     "base_uri": "https://localhost:8080/"
    },
    "id": "z2afvU1EAc3B",
    "outputId": "9a5890c8-3161-4fa8-cf22-834d47de5eef"
   },
   "outputs": [
    {
     "name": "stdout",
     "output_type": "stream",
     "text": [
      "Movie has 2625 nodes\n",
      "Movie has 160000 edges\n",
      "graph is directed or not: False\n",
      "Movie dataset has 1682 movie nodes\n",
      "Movie dataset has 18 movie node features\n",
      "Movie dataset has 943 user nodes\n",
      "Movie dataset has 24 user node features\n",
      "Movie dataset has 80000 edges\n"
     ]
    }
   ],
   "source": [
    "# Exploratory\n",
    "movielens_data = movielens[0]\n",
    "num_nodes = movielens_data.num_nodes\n",
    "print('Movie has {} nodes'.format(num_nodes))\n",
    "\n",
    "num_edges = movielens_data.num_edges\n",
    "print('Movie has {} edges'.format(num_edges))\n",
    "\n",
    "is_directed = movielens_data.is_directed()\n",
    "print(\"graph is directed or not:\", is_directed)\n",
    "\n",
    "# Movie Nodes\n",
    "movie_nodes = movielens_data['movie']\n",
    "movie_nodes_num = movielens_data['movie'].x.shape[0]\n",
    "movie_features = movielens_data['movie'].x.shape[1]\n",
    "print('Movie dataset has {} movie nodes'.format(movie_nodes_num))\n",
    "print('Movie dataset has {} movie node features'.format(movie_features))\n",
    "\n",
    "# User Nodes\n",
    "user_nodes = movielens_data['user']\n",
    "user_nodes_nums = movielens_data['user'].x.shape[0]\n",
    "user_features = movielens_data['user'].x.shape[1]\n",
    "print('Movie dataset has {} user nodes'.format(user_nodes_nums))\n",
    "print('Movie dataset has {} user node features'.format(user_features))\n",
    "\n",
    "# Edges\n",
    "egdes = movielens_data[('user', 'rates', 'movie')]\n",
    "undircted_egdes = egdes['edge_index'].shape[1]\n",
    "print('Movie dataset has {} edges'.format(undircted_egdes))\n"
   ]
  },
  {
   "cell_type": "code",
   "execution_count": null,
   "metadata": {
    "colab": {
     "base_uri": "https://localhost:8080/",
     "height": 467
    },
    "id": "CYjXHbv9TGkU",
    "outputId": "d6f7092f-db55-481c-8ee0-4f6f02e5f9ce"
   },
   "outputs": [
    {
     "data": {
      "text/plain": [
       "0.55175"
      ]
     },
     "execution_count": 15,
     "metadata": {},
     "output_type": "execute_result"
    },
    {
     "data": {
      "image/png": "[encoded data removed]",
      "text/plain": [
       "<Figure size 640x480 with 1 Axes>"
      ]
     },
     "metadata": {},
     "output_type": "display_data"
    }
   ],
   "source": [
    "## Explore Rating\n",
    "movie_rating = pd.DataFrame(egdes['rating'])\n",
    "\n",
    "rating = movie_rating.value_counts().sort_index()\n",
    "color = sns.color_palette(\"pastel\")\n",
    "fig = sns.barplot(x = [1,2,3,4,5],\n",
    "            y = rating,\n",
    "            palette = color[:5],\n",
    "            )\n",
    "fig.set(xlabel='Rating', ylabel='Frequency')\n",
    "\n",
    "(27396+16744)/80000"
   ]
  },
  {
   "cell_type": "code",
   "execution_count": null,
   "metadata": {
    "colab": {
     "base_uri": "https://localhost:8080/"
    },
    "id": "XqyaQXNWbKm9",
    "outputId": "50340385-684b-4eb9-f636-18bff4e95e6a"
   },
   "outputs": [
    {
     "name": "stderr",
     "output_type": "stream",
     "text": [
      "/usr/local/lib/python3.10/dist-packages/numpy/core/fromnumeric.py:3430: FutureWarning: In a future version, DataFrame.mean(axis=None) will return a scalar mean over the entire DataFrame. To retain the old behavior, use 'frame.mean(axis=0)' or just 'frame.mean()'\n",
      "  return mean(axis=axis, dtype=dtype, out=out, **kwargs)\n"
     ]
    },
    {
     "data": {
      "text/plain": [
       "0    3.52835\n",
       "dtype: float64"
      ]
     },
     "execution_count": 16,
     "metadata": {},
     "output_type": "execute_result"
    }
   ],
   "source": [
    "np.mean(movie_rating)"
   ]
  },
  {
   "cell_type": "code",
   "execution_count": null,
   "metadata": {
    "colab": {
     "base_uri": "https://localhost:8080/"
    },
    "id": "GzgU5VjlW4_A",
    "outputId": "f569ba50-fa9a-47e2-ab3d-f2dc8544dbca"
   },
   "outputs": [
    {
     "data": {
      "text/plain": [
       "0       1997-09-22 22:02:38\n",
       "1       1997-10-15 05:26:11\n",
       "2       1997-11-03 07:42:40\n",
       "3       1997-10-15 05:25:19\n",
       "4       1998-03-13 01:15:12\n",
       "                ...        \n",
       "79995   1997-09-29 02:55:56\n",
       "79996   1998-02-28 04:30:50\n",
       "79997   1998-02-28 04:30:50\n",
       "79998   1998-02-28 04:31:15\n",
       "79999   1998-02-28 19:01:05\n",
       "Name: 0, Length: 80000, dtype: datetime64[ns]"
      ]
     },
     "execution_count": 17,
     "metadata": {},
     "output_type": "execute_result"
    }
   ],
   "source": [
    "## Explore Time\n",
    "movie_time = pd.DataFrame(egdes['time']).astype('float')\n",
    "pd.to_datetime(movie_time[0], unit = 's')"
   ]
  },
  {
   "cell_type": "code",
   "execution_count": null,
   "metadata": {
    "colab": {
     "base_uri": "https://localhost:8080/",
     "height": 363
    },
    "id": "3GLsAeo7jw-t",
    "outputId": "79417e95-fdf0-4bb6-b686-fb0c0da71b72"
   },
   "outputs": [
    {
     "data": {
      "text/html": [
       "\n",
       "  <div id=\"df-8dc6ac3f-2889-4f48-86b7-36ccdd9672dd\" class=\"colab-df-container\">\n",
       "    <div>\n",
       "<style scoped>\n",
       "    .dataframe tbody tr th:only-of-type {\n",
       "        vertical-align: middle;\n",
       "    }\n",
       "\n",
       "    .dataframe tbody tr th {\n",
       "        vertical-align: top;\n",
       "    }\n",
       "\n",
       "    .dataframe thead th {\n",
       "        text-align: right;\n",
       "    }\n",
       "</style>\n",
       "<table border=\"1\" class=\"dataframe\">\n",
       "  <thead>\n",
       "    <tr style=\"text-align: right;\">\n",
       "      <th></th>\n",
       "      <th>User_ID</th>\n",
       "      <th>0</th>\n",
       "      <th>Movie_ID</th>\n",
       "    </tr>\n",
       "  </thead>\n",
       "  <tbody>\n",
       "    <tr>\n",
       "      <th>49</th>\n",
       "      <td>49</td>\n",
       "      <td>484</td>\n",
       "      <td>484</td>\n",
       "    </tr>\n",
       "    <tr>\n",
       "      <th>180</th>\n",
       "      <td>180</td>\n",
       "      <td>422</td>\n",
       "      <td>422</td>\n",
       "    </tr>\n",
       "    <tr>\n",
       "      <th>257</th>\n",
       "      <td>257</td>\n",
       "      <td>402</td>\n",
       "      <td>402</td>\n",
       "    </tr>\n",
       "    <tr>\n",
       "      <th>99</th>\n",
       "      <td>99</td>\n",
       "      <td>395</td>\n",
       "      <td>395</td>\n",
       "    </tr>\n",
       "    <tr>\n",
       "      <th>293</th>\n",
       "      <td>293</td>\n",
       "      <td>394</td>\n",
       "      <td>394</td>\n",
       "    </tr>\n",
       "    <tr>\n",
       "      <th>287</th>\n",
       "      <td>287</td>\n",
       "      <td>391</td>\n",
       "      <td>391</td>\n",
       "    </tr>\n",
       "    <tr>\n",
       "      <th>285</th>\n",
       "      <td>285</td>\n",
       "      <td>388</td>\n",
       "      <td>388</td>\n",
       "    </tr>\n",
       "    <tr>\n",
       "      <th>0</th>\n",
       "      <td>0</td>\n",
       "      <td>383</td>\n",
       "      <td>383</td>\n",
       "    </tr>\n",
       "    <tr>\n",
       "      <th>120</th>\n",
       "      <td>120</td>\n",
       "      <td>353</td>\n",
       "      <td>353</td>\n",
       "    </tr>\n",
       "    <tr>\n",
       "      <th>299</th>\n",
       "      <td>299</td>\n",
       "      <td>352</td>\n",
       "      <td>352</td>\n",
       "    </tr>\n",
       "  </tbody>\n",
       "</table>\n",
       "</div>\n",
       "    <div class=\"colab-df-buttons\">\n",
       "\n",
       "  <div class=\"colab-df-container\">\n",
       "    <button class=\"colab-df-convert\" onclick=\"convertToInteractive('df-8dc6ac3f-2889-4f48-86b7-36ccdd9672dd')\"\n",
       "            title=\"Convert this dataframe to an interactive table.\"\n",
       "            style=\"display:none;\">\n",
       "\n",
       "  <svg xmlns=\"http://www.w3.org/2000/svg\" height=\"24px\" viewBox=\"0 -960 960 960\">\n",
       "    <path d=\"M120-120v-720h720v720H120Zm60-500h600v-160H180v160Zm220 220h160v-160H400v160Zm0 220h160v-160H400v160ZM180-400h160v-160H180v160Zm440 0h160v-160H620v160ZM180-180h160v-160H180v160Zm440 0h160v-160H620v160Z\"/>\n",
       "  </svg>\n",
       "    </button>\n",
       "\n",
       "  <style>\n",
       "    .colab-df-container {\n",
       "      display:flex;\n",
       "      gap: 12px;\n",
       "    }\n",
       "\n",
       "    .colab-df-convert {\n",
       "      background-color: #E8F0FE;\n",
       "      border: none;\n",
       "      border-radius: 50%;\n",
       "      cursor: pointer;\n",
       "      display: none;\n",
       "      fill: #1967D2;\n",
       "      height: 32px;\n",
       "      padding: 0 0 0 0;\n",
       "      width: 32px;\n",
       "    }\n",
       "\n",
       "    .colab-df-convert:hover {\n",
       "      background-color: #E2EBFA;\n",
       "      box-shadow: 0px 1px 2px rgba(60, 64, 67, 0.3), 0px 1px 3px 1px rgba(60, 64, 67, 0.15);\n",
       "      fill: #174EA6;\n",
       "    }\n",
       "\n",
       "    .colab-df-buttons div {\n",
       "      margin-bottom: 4px;\n",
       "    }\n",
       "\n",
       "    [theme=dark] .colab-df-convert {\n",
       "      background-color: #3B4455;\n",
       "      fill: #D2E3FC;\n",
       "    }\n",
       "\n",
       "    [theme=dark] .colab-df-convert:hover {\n",
       "      background-color: #434B5C;\n",
       "      box-shadow: 0px 1px 3px 1px rgba(0, 0, 0, 0.15);\n",
       "      filter: drop-shadow(0px 1px 2px rgba(0, 0, 0, 0.3));\n",
       "      fill: #FFFFFF;\n",
       "    }\n",
       "  </style>\n",
       "\n",
       "    <script>\n",
       "      const buttonEl =\n",
       "        document.querySelector('#df-8dc6ac3f-2889-4f48-86b7-36ccdd9672dd button.colab-df-convert');\n",
       "      buttonEl.style.display =\n",
       "        google.colab.kernel.accessAllowed ? 'block' : 'none';\n",
       "\n",
       "      async function convertToInteractive(key) {\n",
       "        const element = document.querySelector('#df-8dc6ac3f-2889-4f48-86b7-36ccdd9672dd');\n",
       "        const dataTable =\n",
       "          await google.colab.kernel.invokeFunction('convertToInteractive',\n",
       "                                                    [key], {});\n",
       "        if (!dataTable) return;\n",
       "\n",
       "        const docLinkHtml = 'Like what you see? Visit the ' +\n",
       "          '<a target=\"_blank\" href=https://colab.research.google.com/notebooks/data_table.ipynb>data table notebook</a>'\n",
       "          + ' to learn more about interactive tables.';\n",
       "        element.innerHTML = '';\n",
       "        dataTable['output_type'] = 'display_data';\n",
       "        await google.colab.output.renderOutput(dataTable, element);\n",
       "        const docLink = document.createElement('div');\n",
       "        docLink.innerHTML = docLinkHtml;\n",
       "        element.appendChild(docLink);\n",
       "      }\n",
       "    </script>\n",
       "  </div>\n",
       "\n",
       "\n",
       "<div id=\"df-def279c1-f316-4526-928d-1b3fbb13d802\">\n",
       "  <button class=\"colab-df-quickchart\" onclick=\"quickchart('df-def279c1-f316-4526-928d-1b3fbb13d802')\"\n",
       "            title=\"Suggest charts\"\n",
       "            style=\"display:none;\">\n",
       "\n",
       "<svg xmlns=\"http://www.w3.org/2000/svg\" height=\"24px\"viewBox=\"0 0 24 24\"\n",
       "     width=\"24px\">\n",
       "    <g>\n",
       "        <path d=\"M19 3H5c-1.1 0-2 .9-2 2v14c0 1.1.9 2 2 2h14c1.1 0 2-.9 2-2V5c0-1.1-.9-2-2-2zM9 17H7v-7h2v7zm4 0h-2V7h2v10zm4 0h-2v-4h2v4z\"/>\n",
       "    </g>\n",
       "</svg>\n",
       "  </button>\n",
       "\n",
       "<style>\n",
       "  .colab-df-quickchart {\n",
       "      --bg-color: #E8F0FE;\n",
       "      --fill-color: #1967D2;\n",
       "      --hover-bg-color: #E2EBFA;\n",
       "      --hover-fill-color: #174EA6;\n",
       "      --disabled-fill-color: #AAA;\n",
       "      --disabled-bg-color: #DDD;\n",
       "  }\n",
       "\n",
       "  [theme=dark] .colab-df-quickchart {\n",
       "      --bg-color: #3B4455;\n",
       "      --fill-color: #D2E3FC;\n",
       "      --hover-bg-color: #434B5C;\n",
       "      --hover-fill-color: #FFFFFF;\n",
       "      --disabled-bg-color: #3B4455;\n",
       "      --disabled-fill-color: #666;\n",
       "  }\n",
       "\n",
       "  .colab-df-quickchart {\n",
       "    background-color: var(--bg-color);\n",
       "    border: none;\n",
       "    border-radius: 50%;\n",
       "    cursor: pointer;\n",
       "    display: none;\n",
       "    fill: var(--fill-color);\n",
       "    height: 32px;\n",
       "    padding: 0;\n",
       "    width: 32px;\n",
       "  }\n",
       "\n",
       "  .colab-df-quickchart:hover {\n",
       "    background-color: var(--hover-bg-color);\n",
       "    box-shadow: 0 1px 2px rgba(60, 64, 67, 0.3), 0 1px 3px 1px rgba(60, 64, 67, 0.15);\n",
       "    fill: var(--button-hover-fill-color);\n",
       "  }\n",
       "\n",
       "  .colab-df-quickchart-complete:disabled,\n",
       "  .colab-df-quickchart-complete:disabled:hover {\n",
       "    background-color: var(--disabled-bg-color);\n",
       "    fill: var(--disabled-fill-color);\n",
       "    box-shadow: none;\n",
       "  }\n",
       "\n",
       "  .colab-df-spinner {\n",
       "    border: 2px solid var(--fill-color);\n",
       "    border-color: transparent;\n",
       "    border-bottom-color: var(--fill-color);\n",
       "    animation:\n",
       "      spin 1s steps(1) infinite;\n",
       "  }\n",
       "\n",
       "  @keyframes spin {\n",
       "    0% {\n",
       "      border-color: transparent;\n",
       "      border-bottom-color: var(--fill-color);\n",
       "      border-left-color: var(--fill-color);\n",
       "    }\n",
       "    20% {\n",
       "      border-color: transparent;\n",
       "      border-left-color: var(--fill-color);\n",
       "      border-top-color: var(--fill-color);\n",
       "    }\n",
       "    30% {\n",
       "      border-color: transparent;\n",
       "      border-left-color: var(--fill-color);\n",
       "      border-top-color: var(--fill-color);\n",
       "      border-right-color: var(--fill-color);\n",
       "    }\n",
       "    40% {\n",
       "      border-color: transparent;\n",
       "      border-right-color: var(--fill-color);\n",
       "      border-top-color: var(--fill-color);\n",
       "    }\n",
       "    60% {\n",
       "      border-color: transparent;\n",
       "      border-right-color: var(--fill-color);\n",
       "    }\n",
       "    80% {\n",
       "      border-color: transparent;\n",
       "      border-right-color: var(--fill-color);\n",
       "      border-bottom-color: var(--fill-color);\n",
       "    }\n",
       "    90% {\n",
       "      border-color: transparent;\n",
       "      border-bottom-color: var(--fill-color);\n",
       "    }\n",
       "  }\n",
       "</style>\n",
       "\n",
       "  <script>\n",
       "    async function quickchart(key) {\n",
       "      const quickchartButtonEl =\n",
       "        document.querySelector('#' + key + ' button');\n",
       "      quickchartButtonEl.disabled = true;  // To prevent multiple clicks.\n",
       "      quickchartButtonEl.classList.add('colab-df-spinner');\n",
       "      try {\n",
       "        const charts = await google.colab.kernel.invokeFunction(\n",
       "            'suggestCharts', [key], {});\n",
       "      } catch (error) {\n",
       "        console.error('Error during call to suggestCharts:', error);\n",
       "      }\n",
       "      quickchartButtonEl.classList.remove('colab-df-spinner');\n",
       "      quickchartButtonEl.classList.add('colab-df-quickchart-complete');\n",
       "    }\n",
       "    (() => {\n",
       "      let quickchartButtonEl =\n",
       "        document.querySelector('#df-def279c1-f316-4526-928d-1b3fbb13d802 button');\n",
       "      quickchartButtonEl.style.display =\n",
       "        google.colab.kernel.accessAllowed ? 'block' : 'none';\n",
       "    })();\n",
       "  </script>\n",
       "</div>\n",
       "    </div>\n",
       "  </div>\n"
      ],
      "text/plain": [
       "     User_ID    0  Movie_ID\n",
       "49        49  484       484\n",
       "180      180  422       422\n",
       "257      257  402       402\n",
       "99        99  395       395\n",
       "293      293  394       394\n",
       "287      287  391       391\n",
       "285      285  388       388\n",
       "0          0  383       383\n",
       "120      120  353       353\n",
       "299      299  352       352"
      ]
     },
     "execution_count": 18,
     "metadata": {},
     "output_type": "execute_result"
    }
   ],
   "source": [
    "movie_rating['User_ID']=egdes['edge_index'][1]\n",
    "movie_rating['Movie_ID']=egdes['edge_index'][0]\n",
    "\n",
    "movie_rating.groupby('User_ID').count().reset_index().sort_values(0, ascending = False)[:10]"
   ]
  },
  {
   "cell_type": "code",
   "execution_count": null,
   "metadata": {
    "colab": {
     "base_uri": "https://localhost:8080/",
     "height": 206
    },
    "id": "TQm1te4Gm6y3",
    "outputId": "1b25bb66-e43e-40bb-b593-2add0d328375"
   },
   "outputs": [
    {
     "data": {
      "text/html": [
       "\n",
       "  <div id=\"df-d591068f-d86a-4d90-89f8-65270bea77c9\" class=\"colab-df-container\">\n",
       "    <div>\n",
       "<style scoped>\n",
       "    .dataframe tbody tr th:only-of-type {\n",
       "        vertical-align: middle;\n",
       "    }\n",
       "\n",
       "    .dataframe tbody tr th {\n",
       "        vertical-align: top;\n",
       "    }\n",
       "\n",
       "    .dataframe thead th {\n",
       "        text-align: right;\n",
       "    }\n",
       "</style>\n",
       "<table border=\"1\" class=\"dataframe\">\n",
       "  <thead>\n",
       "    <tr style=\"text-align: right;\">\n",
       "      <th></th>\n",
       "      <th>User_ID</th>\n",
       "      <th>0</th>\n",
       "      <th>Movie_ID</th>\n",
       "    </tr>\n",
       "  </thead>\n",
       "  <tbody>\n",
       "    <tr>\n",
       "      <th>1534</th>\n",
       "      <td>1563</td>\n",
       "      <td>1</td>\n",
       "      <td>1</td>\n",
       "    </tr>\n",
       "    <tr>\n",
       "      <th>1535</th>\n",
       "      <td>1565</td>\n",
       "      <td>1</td>\n",
       "      <td>1</td>\n",
       "    </tr>\n",
       "    <tr>\n",
       "      <th>1536</th>\n",
       "      <td>1566</td>\n",
       "      <td>1</td>\n",
       "      <td>1</td>\n",
       "    </tr>\n",
       "    <tr>\n",
       "      <th>1328</th>\n",
       "      <td>1339</td>\n",
       "      <td>1</td>\n",
       "      <td>1</td>\n",
       "    </tr>\n",
       "    <tr>\n",
       "      <th>1649</th>\n",
       "      <td>1681</td>\n",
       "      <td>1</td>\n",
       "      <td>1</td>\n",
       "    </tr>\n",
       "  </tbody>\n",
       "</table>\n",
       "</div>\n",
       "    <div class=\"colab-df-buttons\">\n",
       "\n",
       "  <div class=\"colab-df-container\">\n",
       "    <button class=\"colab-df-convert\" onclick=\"convertToInteractive('df-d591068f-d86a-4d90-89f8-65270bea77c9')\"\n",
       "            title=\"Convert this dataframe to an interactive table.\"\n",
       "            style=\"display:none;\">\n",
       "\n",
       "  <svg xmlns=\"http://www.w3.org/2000/svg\" height=\"24px\" viewBox=\"0 -960 960 960\">\n",
       "    <path d=\"M120-120v-720h720v720H120Zm60-500h600v-160H180v160Zm220 220h160v-160H400v160Zm0 220h160v-160H400v160ZM180-400h160v-160H180v160Zm440 0h160v-160H620v160ZM180-180h160v-160H180v160Zm440 0h160v-160H620v160Z\"/>\n",
       "  </svg>\n",
       "    </button>\n",
       "\n",
       "  <style>\n",
       "    .colab-df-container {\n",
       "      display:flex;\n",
       "      gap: 12px;\n",
       "    }\n",
       "\n",
       "    .colab-df-convert {\n",
       "      background-color: #E8F0FE;\n",
       "      border: none;\n",
       "      border-radius: 50%;\n",
       "      cursor: pointer;\n",
       "      display: none;\n",
       "      fill: #1967D2;\n",
       "      height: 32px;\n",
       "      padding: 0 0 0 0;\n",
       "      width: 32px;\n",
       "    }\n",
       "\n",
       "    .colab-df-convert:hover {\n",
       "      background-color: #E2EBFA;\n",
       "      box-shadow: 0px 1px 2px rgba(60, 64, 67, 0.3), 0px 1px 3px 1px rgba(60, 64, 67, 0.15);\n",
       "      fill: #174EA6;\n",
       "    }\n",
       "\n",
       "    .colab-df-buttons div {\n",
       "      margin-bottom: 4px;\n",
       "    }\n",
       "\n",
       "    [theme=dark] .colab-df-convert {\n",
       "      background-color: #3B4455;\n",
       "      fill: #D2E3FC;\n",
       "    }\n",
       "\n",
       "    [theme=dark] .colab-df-convert:hover {\n",
       "      background-color: #434B5C;\n",
       "      box-shadow: 0px 1px 3px 1px rgba(0, 0, 0, 0.15);\n",
       "      filter: drop-shadow(0px 1px 2px rgba(0, 0, 0, 0.3));\n",
       "      fill: #FFFFFF;\n",
       "    }\n",
       "  </style>\n",
       "\n",
       "    <script>\n",
       "      const buttonEl =\n",
       "        document.querySelector('#df-d591068f-d86a-4d90-89f8-65270bea77c9 button.colab-df-convert');\n",
       "      buttonEl.style.display =\n",
       "        google.colab.kernel.accessAllowed ? 'block' : 'none';\n",
       "\n",
       "      async function convertToInteractive(key) {\n",
       "        const element = document.querySelector('#df-d591068f-d86a-4d90-89f8-65270bea77c9');\n",
       "        const dataTable =\n",
       "          await google.colab.kernel.invokeFunction('convertToInteractive',\n",
       "                                                    [key], {});\n",
       "        if (!dataTable) return;\n",
       "\n",
       "        const docLinkHtml = 'Like what you see? Visit the ' +\n",
       "          '<a target=\"_blank\" href=https://colab.research.google.com/notebooks/data_table.ipynb>data table notebook</a>'\n",
       "          + ' to learn more about interactive tables.';\n",
       "        element.innerHTML = '';\n",
       "        dataTable['output_type'] = 'display_data';\n",
       "        await google.colab.output.renderOutput(dataTable, element);\n",
       "        const docLink = document.createElement('div');\n",
       "        docLink.innerHTML = docLinkHtml;\n",
       "        element.appendChild(docLink);\n",
       "      }\n",
       "    </script>\n",
       "  </div>\n",
       "\n",
       "\n",
       "<div id=\"df-ca31f5b7-8290-4829-afa8-16d64b916463\">\n",
       "  <button class=\"colab-df-quickchart\" onclick=\"quickchart('df-ca31f5b7-8290-4829-afa8-16d64b916463')\"\n",
       "            title=\"Suggest charts\"\n",
       "            style=\"display:none;\">\n",
       "\n",
       "<svg xmlns=\"http://www.w3.org/2000/svg\" height=\"24px\"viewBox=\"0 0 24 24\"\n",
       "     width=\"24px\">\n",
       "    <g>\n",
       "        <path d=\"M19 3H5c-1.1 0-2 .9-2 2v14c0 1.1.9 2 2 2h14c1.1 0 2-.9 2-2V5c0-1.1-.9-2-2-2zM9 17H7v-7h2v7zm4 0h-2V7h2v10zm4 0h-2v-4h2v4z\"/>\n",
       "    </g>\n",
       "</svg>\n",
       "  </button>\n",
       "\n",
       "<style>\n",
       "  .colab-df-quickchart {\n",
       "      --bg-color: #E8F0FE;\n",
       "      --fill-color: #1967D2;\n",
       "      --hover-bg-color: #E2EBFA;\n",
       "      --hover-fill-color: #174EA6;\n",
       "      --disabled-fill-color: #AAA;\n",
       "      --disabled-bg-color: #DDD;\n",
       "  }\n",
       "\n",
       "  [theme=dark] .colab-df-quickchart {\n",
       "      --bg-color: #3B4455;\n",
       "      --fill-color: #D2E3FC;\n",
       "      --hover-bg-color: #434B5C;\n",
       "      --hover-fill-color: #FFFFFF;\n",
       "      --disabled-bg-color: #3B4455;\n",
       "      --disabled-fill-color: #666;\n",
       "  }\n",
       "\n",
       "  .colab-df-quickchart {\n",
       "    background-color: var(--bg-color);\n",
       "    border: none;\n",
       "    border-radius: 50%;\n",
       "    cursor: pointer;\n",
       "    display: none;\n",
       "    fill: var(--fill-color);\n",
       "    height: 32px;\n",
       "    padding: 0;\n",
       "    width: 32px;\n",
       "  }\n",
       "\n",
       "  .colab-df-quickchart:hover {\n",
       "    background-color: var(--hover-bg-color);\n",
       "    box-shadow: 0 1px 2px rgba(60, 64, 67, 0.3), 0 1px 3px 1px rgba(60, 64, 67, 0.15);\n",
       "    fill: var(--button-hover-fill-color);\n",
       "  }\n",
       "\n",
       "  .colab-df-quickchart-complete:disabled,\n",
       "  .colab-df-quickchart-complete:disabled:hover {\n",
       "    background-color: var(--disabled-bg-color);\n",
       "    fill: var(--disabled-fill-color);\n",
       "    box-shadow: none;\n",
       "  }\n",
       "\n",
       "  .colab-df-spinner {\n",
       "    border: 2px solid var(--fill-color);\n",
       "    border-color: transparent;\n",
       "    border-bottom-color: var(--fill-color);\n",
       "    animation:\n",
       "      spin 1s steps(1) infinite;\n",
       "  }\n",
       "\n",
       "  @keyframes spin {\n",
       "    0% {\n",
       "      border-color: transparent;\n",
       "      border-bottom-color: var(--fill-color);\n",
       "      border-left-color: var(--fill-color);\n",
       "    }\n",
       "    20% {\n",
       "      border-color: transparent;\n",
       "      border-left-color: var(--fill-color);\n",
       "      border-top-color: var(--fill-color);\n",
       "    }\n",
       "    30% {\n",
       "      border-color: transparent;\n",
       "      border-left-color: var(--fill-color);\n",
       "      border-top-color: var(--fill-color);\n",
       "      border-right-color: var(--fill-color);\n",
       "    }\n",
       "    40% {\n",
       "      border-color: transparent;\n",
       "      border-right-color: var(--fill-color);\n",
       "      border-top-color: var(--fill-color);\n",
       "    }\n",
       "    60% {\n",
       "      border-color: transparent;\n",
       "      border-right-color: var(--fill-color);\n",
       "    }\n",
       "    80% {\n",
       "      border-color: transparent;\n",
       "      border-right-color: var(--fill-color);\n",
       "      border-bottom-color: var(--fill-color);\n",
       "    }\n",
       "    90% {\n",
       "      border-color: transparent;\n",
       "      border-bottom-color: var(--fill-color);\n",
       "    }\n",
       "  }\n",
       "</style>\n",
       "\n",
       "  <script>\n",
       "    async function quickchart(key) {\n",
       "      const quickchartButtonEl =\n",
       "        document.querySelector('#' + key + ' button');\n",
       "      quickchartButtonEl.disabled = true;  // To prevent multiple clicks.\n",
       "      quickchartButtonEl.classList.add('colab-df-spinner');\n",
       "      try {\n",
       "        const charts = await google.colab.kernel.invokeFunction(\n",
       "            'suggestCharts', [key], {});\n",
       "      } catch (error) {\n",
       "        console.error('Error during call to suggestCharts:', error);\n",
       "      }\n",
       "      quickchartButtonEl.classList.remove('colab-df-spinner');\n",
       "      quickchartButtonEl.classList.add('colab-df-quickchart-complete');\n",
       "    }\n",
       "    (() => {\n",
       "      let quickchartButtonEl =\n",
       "        document.querySelector('#df-ca31f5b7-8290-4829-afa8-16d64b916463 button');\n",
       "      quickchartButtonEl.style.display =\n",
       "        google.colab.kernel.accessAllowed ? 'block' : 'none';\n",
       "    })();\n",
       "  </script>\n",
       "</div>\n",
       "    </div>\n",
       "  </div>\n"
      ],
      "text/plain": [
       "      User_ID  0  Movie_ID\n",
       "1534     1563  1         1\n",
       "1535     1565  1         1\n",
       "1536     1566  1         1\n",
       "1328     1339  1         1\n",
       "1649     1681  1         1"
      ]
     },
     "execution_count": 19,
     "metadata": {},
     "output_type": "execute_result"
    }
   ],
   "source": [
    "movie_rating.groupby('User_ID').count().reset_index().sort_values(0, ascending = False)[-5:]"
   ]
  },
  {
   "cell_type": "code",
   "execution_count": null,
   "metadata": {
    "colab": {
     "base_uri": "https://localhost:8080/",
     "height": 363
    },
    "id": "9qV-K07Qk-Zl",
    "outputId": "efd28b21-5fce-4d2c-d01a-a7b11ee05db7"
   },
   "outputs": [
    {
     "data": {
      "text/html": [
       "\n",
       "  <div id=\"df-006b4895-7a0c-412b-8910-f4e7dc73329a\" class=\"colab-df-container\">\n",
       "    <div>\n",
       "<style scoped>\n",
       "    .dataframe tbody tr th:only-of-type {\n",
       "        vertical-align: middle;\n",
       "    }\n",
       "\n",
       "    .dataframe tbody tr th {\n",
       "        vertical-align: top;\n",
       "    }\n",
       "\n",
       "    .dataframe thead th {\n",
       "        text-align: right;\n",
       "    }\n",
       "</style>\n",
       "<table border=\"1\" class=\"dataframe\">\n",
       "  <thead>\n",
       "    <tr style=\"text-align: right;\">\n",
       "      <th></th>\n",
       "      <th>Movie_ID</th>\n",
       "      <th>0</th>\n",
       "      <th>User_ID</th>\n",
       "    </tr>\n",
       "  </thead>\n",
       "  <tbody>\n",
       "    <tr>\n",
       "      <th>654</th>\n",
       "      <td>654</td>\n",
       "      <td>685</td>\n",
       "      <td>685</td>\n",
       "    </tr>\n",
       "    <tr>\n",
       "      <th>404</th>\n",
       "      <td>404</td>\n",
       "      <td>582</td>\n",
       "      <td>582</td>\n",
       "    </tr>\n",
       "    <tr>\n",
       "      <th>449</th>\n",
       "      <td>449</td>\n",
       "      <td>494</td>\n",
       "      <td>494</td>\n",
       "    </tr>\n",
       "    <tr>\n",
       "      <th>536</th>\n",
       "      <td>536</td>\n",
       "      <td>490</td>\n",
       "      <td>490</td>\n",
       "    </tr>\n",
       "    <tr>\n",
       "      <th>415</th>\n",
       "      <td>415</td>\n",
       "      <td>417</td>\n",
       "      <td>417</td>\n",
       "    </tr>\n",
       "    <tr>\n",
       "      <th>845</th>\n",
       "      <td>845</td>\n",
       "      <td>405</td>\n",
       "      <td>405</td>\n",
       "    </tr>\n",
       "    <tr>\n",
       "      <th>681</th>\n",
       "      <td>681</td>\n",
       "      <td>399</td>\n",
       "      <td>399</td>\n",
       "    </tr>\n",
       "    <tr>\n",
       "      <th>12</th>\n",
       "      <td>12</td>\n",
       "      <td>373</td>\n",
       "      <td>373</td>\n",
       "    </tr>\n",
       "    <tr>\n",
       "      <th>879</th>\n",
       "      <td>879</td>\n",
       "      <td>368</td>\n",
       "      <td>368</td>\n",
       "    </tr>\n",
       "    <tr>\n",
       "      <th>428</th>\n",
       "      <td>428</td>\n",
       "      <td>364</td>\n",
       "      <td>364</td>\n",
       "    </tr>\n",
       "  </tbody>\n",
       "</table>\n",
       "</div>\n",
       "    <div class=\"colab-df-buttons\">\n",
       "\n",
       "  <div class=\"colab-df-container\">\n",
       "    <button class=\"colab-df-convert\" onclick=\"convertToInteractive('df-006b4895-7a0c-412b-8910-f4e7dc73329a')\"\n",
       "            title=\"Convert this dataframe to an interactive table.\"\n",
       "            style=\"display:none;\">\n",
       "\n",
       "  <svg xmlns=\"http://www.w3.org/2000/svg\" height=\"24px\" viewBox=\"0 -960 960 960\">\n",
       "    <path d=\"M120-120v-720h720v720H120Zm60-500h600v-160H180v160Zm220 220h160v-160H400v160Zm0 220h160v-160H400v160ZM180-400h160v-160H180v160Zm440 0h160v-160H620v160ZM180-180h160v-160H180v160Zm440 0h160v-160H620v160Z\"/>\n",
       "  </svg>\n",
       "    </button>\n",
       "\n",
       "  <style>\n",
       "    .colab-df-container {\n",
       "      display:flex;\n",
       "      gap: 12px;\n",
       "    }\n",
       "\n",
       "    .colab-df-convert {\n",
       "      background-color: #E8F0FE;\n",
       "      border: none;\n",
       "      border-radius: 50%;\n",
       "      cursor: pointer;\n",
       "      display: none;\n",
       "      fill: #1967D2;\n",
       "      height: 32px;\n",
       "      padding: 0 0 0 0;\n",
       "      width: 32px;\n",
       "    }\n",
       "\n",
       "    .colab-df-convert:hover {\n",
       "      background-color: #E2EBFA;\n",
       "      box-shadow: 0px 1px 2px rgba(60, 64, 67, 0.3), 0px 1px 3px 1px rgba(60, 64, 67, 0.15);\n",
       "      fill: #174EA6;\n",
       "    }\n",
       "\n",
       "    .colab-df-buttons div {\n",
       "      margin-bottom: 4px;\n",
       "    }\n",
       "\n",
       "    [theme=dark] .colab-df-convert {\n",
       "      background-color: #3B4455;\n",
       "      fill: #D2E3FC;\n",
       "    }\n",
       "\n",
       "    [theme=dark] .colab-df-convert:hover {\n",
       "      background-color: #434B5C;\n",
       "      box-shadow: 0px 1px 3px 1px rgba(0, 0, 0, 0.15);\n",
       "      filter: drop-shadow(0px 1px 2px rgba(0, 0, 0, 0.3));\n",
       "      fill: #FFFFFF;\n",
       "    }\n",
       "  </style>\n",
       "\n",
       "    <script>\n",
       "      const buttonEl =\n",
       "        document.querySelector('#df-006b4895-7a0c-412b-8910-f4e7dc73329a button.colab-df-convert');\n",
       "      buttonEl.style.display =\n",
       "        google.colab.kernel.accessAllowed ? 'block' : 'none';\n",
       "\n",
       "      async function convertToInteractive(key) {\n",
       "        const element = document.querySelector('#df-006b4895-7a0c-412b-8910-f4e7dc73329a');\n",
       "        const dataTable =\n",
       "          await google.colab.kernel.invokeFunction('convertToInteractive',\n",
       "                                                    [key], {});\n",
       "        if (!dataTable) return;\n",
       "\n",
       "        const docLinkHtml = 'Like what you see? Visit the ' +\n",
       "          '<a target=\"_blank\" href=https://colab.research.google.com/notebooks/data_table.ipynb>data table notebook</a>'\n",
       "          + ' to learn more about interactive tables.';\n",
       "        element.innerHTML = '';\n",
       "        dataTable['output_type'] = 'display_data';\n",
       "        await google.colab.output.renderOutput(dataTable, element);\n",
       "        const docLink = document.createElement('div');\n",
       "        docLink.innerHTML = docLinkHtml;\n",
       "        element.appendChild(docLink);\n",
       "      }\n",
       "    </script>\n",
       "  </div>\n",
       "\n",
       "\n",
       "<div id=\"df-354cacd3-3b29-4fff-b45f-72143a2eab0f\">\n",
       "  <button class=\"colab-df-quickchart\" onclick=\"quickchart('df-354cacd3-3b29-4fff-b45f-72143a2eab0f')\"\n",
       "            title=\"Suggest charts\"\n",
       "            style=\"display:none;\">\n",
       "\n",
       "<svg xmlns=\"http://www.w3.org/2000/svg\" height=\"24px\"viewBox=\"0 0 24 24\"\n",
       "     width=\"24px\">\n",
       "    <g>\n",
       "        <path d=\"M19 3H5c-1.1 0-2 .9-2 2v14c0 1.1.9 2 2 2h14c1.1 0 2-.9 2-2V5c0-1.1-.9-2-2-2zM9 17H7v-7h2v7zm4 0h-2V7h2v10zm4 0h-2v-4h2v4z\"/>\n",
       "    </g>\n",
       "</svg>\n",
       "  </button>\n",
       "\n",
       "<style>\n",
       "  .colab-df-quickchart {\n",
       "      --bg-color: #E8F0FE;\n",
       "      --fill-color: #1967D2;\n",
       "      --hover-bg-color: #E2EBFA;\n",
       "      --hover-fill-color: #174EA6;\n",
       "      --disabled-fill-color: #AAA;\n",
       "      --disabled-bg-color: #DDD;\n",
       "  }\n",
       "\n",
       "  [theme=dark] .colab-df-quickchart {\n",
       "      --bg-color: #3B4455;\n",
       "      --fill-color: #D2E3FC;\n",
       "      --hover-bg-color: #434B5C;\n",
       "      --hover-fill-color: #FFFFFF;\n",
       "      --disabled-bg-color: #3B4455;\n",
       "      --disabled-fill-color: #666;\n",
       "  }\n",
       "\n",
       "  .colab-df-quickchart {\n",
       "    background-color: var(--bg-color);\n",
       "    border: none;\n",
       "    border-radius: 50%;\n",
       "    cursor: pointer;\n",
       "    display: none;\n",
       "    fill: var(--fill-color);\n",
       "    height: 32px;\n",
       "    padding: 0;\n",
       "    width: 32px;\n",
       "  }\n",
       "\n",
       "  .colab-df-quickchart:hover {\n",
       "    background-color: var(--hover-bg-color);\n",
       "    box-shadow: 0 1px 2px rgba(60, 64, 67, 0.3), 0 1px 3px 1px rgba(60, 64, 67, 0.15);\n",
       "    fill: var(--button-hover-fill-color);\n",
       "  }\n",
       "\n",
       "  .colab-df-quickchart-complete:disabled,\n",
       "  .colab-df-quickchart-complete:disabled:hover {\n",
       "    background-color: var(--disabled-bg-color);\n",
       "    fill: var(--disabled-fill-color);\n",
       "    box-shadow: none;\n",
       "  }\n",
       "\n",
       "  .colab-df-spinner {\n",
       "    border: 2px solid var(--fill-color);\n",
       "    border-color: transparent;\n",
       "    border-bottom-color: var(--fill-color);\n",
       "    animation:\n",
       "      spin 1s steps(1) infinite;\n",
       "  }\n",
       "\n",
       "  @keyframes spin {\n",
       "    0% {\n",
       "      border-color: transparent;\n",
       "      border-bottom-color: var(--fill-color);\n",
       "      border-left-color: var(--fill-color);\n",
       "    }\n",
       "    20% {\n",
       "      border-color: transparent;\n",
       "      border-left-color: var(--fill-color);\n",
       "      border-top-color: var(--fill-color);\n",
       "    }\n",
       "    30% {\n",
       "      border-color: transparent;\n",
       "      border-left-color: var(--fill-color);\n",
       "      border-top-color: var(--fill-color);\n",
       "      border-right-color: var(--fill-color);\n",
       "    }\n",
       "    40% {\n",
       "      border-color: transparent;\n",
       "      border-right-color: var(--fill-color);\n",
       "      border-top-color: var(--fill-color);\n",
       "    }\n",
       "    60% {\n",
       "      border-color: transparent;\n",
       "      border-right-color: var(--fill-color);\n",
       "    }\n",
       "    80% {\n",
       "      border-color: transparent;\n",
       "      border-right-color: var(--fill-color);\n",
       "      border-bottom-color: var(--fill-color);\n",
       "    }\n",
       "    90% {\n",
       "      border-color: transparent;\n",
       "      border-bottom-color: var(--fill-color);\n",
       "    }\n",
       "  }\n",
       "</style>\n",
       "\n",
       "  <script>\n",
       "    async function quickchart(key) {\n",
       "      const quickchartButtonEl =\n",
       "        document.querySelector('#' + key + ' button');\n",
       "      quickchartButtonEl.disabled = true;  // To prevent multiple clicks.\n",
       "      quickchartButtonEl.classList.add('colab-df-spinner');\n",
       "      try {\n",
       "        const charts = await google.colab.kernel.invokeFunction(\n",
       "            'suggestCharts', [key], {});\n",
       "      } catch (error) {\n",
       "        console.error('Error during call to suggestCharts:', error);\n",
       "      }\n",
       "      quickchartButtonEl.classList.remove('colab-df-spinner');\n",
       "      quickchartButtonEl.classList.add('colab-df-quickchart-complete');\n",
       "    }\n",
       "    (() => {\n",
       "      let quickchartButtonEl =\n",
       "        document.querySelector('#df-354cacd3-3b29-4fff-b45f-72143a2eab0f button');\n",
       "      quickchartButtonEl.style.display =\n",
       "        google.colab.kernel.accessAllowed ? 'block' : 'none';\n",
       "    })();\n",
       "  </script>\n",
       "</div>\n",
       "    </div>\n",
       "  </div>\n"
      ],
      "text/plain": [
       "     Movie_ID    0  User_ID\n",
       "654       654  685      685\n",
       "404       404  582      582\n",
       "449       449  494      494\n",
       "536       536  490      490\n",
       "415       415  417      417\n",
       "845       845  405      405\n",
       "681       681  399      399\n",
       "12         12  373      373\n",
       "879       879  368      368\n",
       "428       428  364      364"
      ]
     },
     "execution_count": 20,
     "metadata": {},
     "output_type": "execute_result"
    }
   ],
   "source": [
    "movie_rating.groupby('Movie_ID').count().reset_index().sort_values(0, ascending = False)[:10]"
   ]
  },
  {
   "cell_type": "code",
   "execution_count": null,
   "metadata": {
    "colab": {
     "base_uri": "https://localhost:8080/",
     "height": 206
    },
    "id": "yVjhvLiPof6u",
    "outputId": "9f7c98c0-bee2-4319-a4da-a43c236e35a1"
   },
   "outputs": [
    {
     "data": {
      "text/html": [
       "\n",
       "  <div id=\"df-02268be2-efa5-4ce2-9f95-601bfdcdc2bd\" class=\"colab-df-container\">\n",
       "    <div>\n",
       "<style scoped>\n",
       "    .dataframe tbody tr th:only-of-type {\n",
       "        vertical-align: middle;\n",
       "    }\n",
       "\n",
       "    .dataframe tbody tr th {\n",
       "        vertical-align: top;\n",
       "    }\n",
       "\n",
       "    .dataframe thead th {\n",
       "        text-align: right;\n",
       "    }\n",
       "</style>\n",
       "<table border=\"1\" class=\"dataframe\">\n",
       "  <thead>\n",
       "    <tr style=\"text-align: right;\">\n",
       "      <th></th>\n",
       "      <th>Movie_ID</th>\n",
       "      <th>0</th>\n",
       "      <th>User_ID</th>\n",
       "    </tr>\n",
       "  </thead>\n",
       "  <tbody>\n",
       "    <tr>\n",
       "      <th>35</th>\n",
       "      <td>35</td>\n",
       "      <td>9</td>\n",
       "      <td>9</td>\n",
       "    </tr>\n",
       "    <tr>\n",
       "      <th>92</th>\n",
       "      <td>92</td>\n",
       "      <td>9</td>\n",
       "      <td>9</td>\n",
       "    </tr>\n",
       "    <tr>\n",
       "      <th>257</th>\n",
       "      <td>257</td>\n",
       "      <td>8</td>\n",
       "      <td>8</td>\n",
       "    </tr>\n",
       "    <tr>\n",
       "      <th>227</th>\n",
       "      <td>227</td>\n",
       "      <td>7</td>\n",
       "      <td>7</td>\n",
       "    </tr>\n",
       "    <tr>\n",
       "      <th>309</th>\n",
       "      <td>309</td>\n",
       "      <td>4</td>\n",
       "      <td>4</td>\n",
       "    </tr>\n",
       "  </tbody>\n",
       "</table>\n",
       "</div>\n",
       "    <div class=\"colab-df-buttons\">\n",
       "\n",
       "  <div class=\"colab-df-container\">\n",
       "    <button class=\"colab-df-convert\" onclick=\"convertToInteractive('df-02268be2-efa5-4ce2-9f95-601bfdcdc2bd')\"\n",
       "            title=\"Convert this dataframe to an interactive table.\"\n",
       "            style=\"display:none;\">\n",
       "\n",
       "  <svg xmlns=\"http://www.w3.org/2000/svg\" height=\"24px\" viewBox=\"0 -960 960 960\">\n",
       "    <path d=\"M120-120v-720h720v720H120Zm60-500h600v-160H180v160Zm220 220h160v-160H400v160Zm0 220h160v-160H400v160ZM180-400h160v-160H180v160Zm440 0h160v-160H620v160ZM180-180h160v-160H180v160Zm440 0h160v-160H620v160Z\"/>\n",
       "  </svg>\n",
       "    </button>\n",
       "\n",
       "  <style>\n",
       "    .colab-df-container {\n",
       "      display:flex;\n",
       "      gap: 12px;\n",
       "    }\n",
       "\n",
       "    .colab-df-convert {\n",
       "      background-color: #E8F0FE;\n",
       "      border: none;\n",
       "      border-radius: 50%;\n",
       "      cursor: pointer;\n",
       "      display: none;\n",
       "      fill: #1967D2;\n",
       "      height: 32px;\n",
       "      padding: 0 0 0 0;\n",
       "      width: 32px;\n",
       "    }\n",
       "\n",
       "    .colab-df-convert:hover {\n",
       "      background-color: #E2EBFA;\n",
       "      box-shadow: 0px 1px 2px rgba(60, 64, 67, 0.3), 0px 1px 3px 1px rgba(60, 64, 67, 0.15);\n",
       "      fill: #174EA6;\n",
       "    }\n",
       "\n",
       "    .colab-df-buttons div {\n",
       "      margin-bottom: 4px;\n",
       "    }\n",
       "\n",
       "    [theme=dark] .colab-df-convert {\n",
       "      background-color: #3B4455;\n",
       "      fill: #D2E3FC;\n",
       "    }\n",
       "\n",
       "    [theme=dark] .colab-df-convert:hover {\n",
       "      background-color: #434B5C;\n",
       "      box-shadow: 0px 1px 3px 1px rgba(0, 0, 0, 0.15);\n",
       "      filter: drop-shadow(0px 1px 2px rgba(0, 0, 0, 0.3));\n",
       "      fill: #FFFFFF;\n",
       "    }\n",
       "  </style>\n",
       "\n",
       "    <script>\n",
       "      const buttonEl =\n",
       "        document.querySelector('#df-02268be2-efa5-4ce2-9f95-601bfdcdc2bd button.colab-df-convert');\n",
       "      buttonEl.style.display =\n",
       "        google.colab.kernel.accessAllowed ? 'block' : 'none';\n",
       "\n",
       "      async function convertToInteractive(key) {\n",
       "        const element = document.querySelector('#df-02268be2-efa5-4ce2-9f95-601bfdcdc2bd');\n",
       "        const dataTable =\n",
       "          await google.colab.kernel.invokeFunction('convertToInteractive',\n",
       "                                                    [key], {});\n",
       "        if (!dataTable) return;\n",
       "\n",
       "        const docLinkHtml = 'Like what you see? Visit the ' +\n",
       "          '<a target=\"_blank\" href=https://colab.research.google.com/notebooks/data_table.ipynb>data table notebook</a>'\n",
       "          + ' to learn more about interactive tables.';\n",
       "        element.innerHTML = '';\n",
       "        dataTable['output_type'] = 'display_data';\n",
       "        await google.colab.output.renderOutput(dataTable, element);\n",
       "        const docLink = document.createElement('div');\n",
       "        docLink.innerHTML = docLinkHtml;\n",
       "        element.appendChild(docLink);\n",
       "      }\n",
       "    </script>\n",
       "  </div>\n",
       "\n",
       "\n",
       "<div id=\"df-33b808d0-cdd8-4ca6-b0f9-ed4412187fad\">\n",
       "  <button class=\"colab-df-quickchart\" onclick=\"quickchart('df-33b808d0-cdd8-4ca6-b0f9-ed4412187fad')\"\n",
       "            title=\"Suggest charts\"\n",
       "            style=\"display:none;\">\n",
       "\n",
       "<svg xmlns=\"http://www.w3.org/2000/svg\" height=\"24px\"viewBox=\"0 0 24 24\"\n",
       "     width=\"24px\">\n",
       "    <g>\n",
       "        <path d=\"M19 3H5c-1.1 0-2 .9-2 2v14c0 1.1.9 2 2 2h14c1.1 0 2-.9 2-2V5c0-1.1-.9-2-2-2zM9 17H7v-7h2v7zm4 0h-2V7h2v10zm4 0h-2v-4h2v4z\"/>\n",
       "    </g>\n",
       "</svg>\n",
       "  </button>\n",
       "\n",
       "<style>\n",
       "  .colab-df-quickchart {\n",
       "      --bg-color: #E8F0FE;\n",
       "      --fill-color: #1967D2;\n",
       "      --hover-bg-color: #E2EBFA;\n",
       "      --hover-fill-color: #174EA6;\n",
       "      --disabled-fill-color: #AAA;\n",
       "      --disabled-bg-color: #DDD;\n",
       "  }\n",
       "\n",
       "  [theme=dark] .colab-df-quickchart {\n",
       "      --bg-color: #3B4455;\n",
       "      --fill-color: #D2E3FC;\n",
       "      --hover-bg-color: #434B5C;\n",
       "      --hover-fill-color: #FFFFFF;\n",
       "      --disabled-bg-color: #3B4455;\n",
       "      --disabled-fill-color: #666;\n",
       "  }\n",
       "\n",
       "  .colab-df-quickchart {\n",
       "    background-color: var(--bg-color);\n",
       "    border: none;\n",
       "    border-radius: 50%;\n",
       "    cursor: pointer;\n",
       "    display: none;\n",
       "    fill: var(--fill-color);\n",
       "    height: 32px;\n",
       "    padding: 0;\n",
       "    width: 32px;\n",
       "  }\n",
       "\n",
       "  .colab-df-quickchart:hover {\n",
       "    background-color: var(--hover-bg-color);\n",
       "    box-shadow: 0 1px 2px rgba(60, 64, 67, 0.3), 0 1px 3px 1px rgba(60, 64, 67, 0.15);\n",
       "    fill: var(--button-hover-fill-color);\n",
       "  }\n",
       "\n",
       "  .colab-df-quickchart-complete:disabled,\n",
       "  .colab-df-quickchart-complete:disabled:hover {\n",
       "    background-color: var(--disabled-bg-color);\n",
       "    fill: var(--disabled-fill-color);\n",
       "    box-shadow: none;\n",
       "  }\n",
       "\n",
       "  .colab-df-spinner {\n",
       "    border: 2px solid var(--fill-color);\n",
       "    border-color: transparent;\n",
       "    border-bottom-color: var(--fill-color);\n",
       "    animation:\n",
       "      spin 1s steps(1) infinite;\n",
       "  }\n",
       "\n",
       "  @keyframes spin {\n",
       "    0% {\n",
       "      border-color: transparent;\n",
       "      border-bottom-color: var(--fill-color);\n",
       "      border-left-color: var(--fill-color);\n",
       "    }\n",
       "    20% {\n",
       "      border-color: transparent;\n",
       "      border-left-color: var(--fill-color);\n",
       "      border-top-color: var(--fill-color);\n",
       "    }\n",
       "    30% {\n",
       "      border-color: transparent;\n",
       "      border-left-color: var(--fill-color);\n",
       "      border-top-color: var(--fill-color);\n",
       "      border-right-color: var(--fill-color);\n",
       "    }\n",
       "    40% {\n",
       "      border-color: transparent;\n",
       "      border-right-color: var(--fill-color);\n",
       "      border-top-color: var(--fill-color);\n",
       "    }\n",
       "    60% {\n",
       "      border-color: transparent;\n",
       "      border-right-color: var(--fill-color);\n",
       "    }\n",
       "    80% {\n",
       "      border-color: transparent;\n",
       "      border-right-color: var(--fill-color);\n",
       "      border-bottom-color: var(--fill-color);\n",
       "    }\n",
       "    90% {\n",
       "      border-color: transparent;\n",
       "      border-bottom-color: var(--fill-color);\n",
       "    }\n",
       "  }\n",
       "</style>\n",
       "\n",
       "  <script>\n",
       "    async function quickchart(key) {\n",
       "      const quickchartButtonEl =\n",
       "        document.querySelector('#' + key + ' button');\n",
       "      quickchartButtonEl.disabled = true;  // To prevent multiple clicks.\n",
       "      quickchartButtonEl.classList.add('colab-df-spinner');\n",
       "      try {\n",
       "        const charts = await google.colab.kernel.invokeFunction(\n",
       "            'suggestCharts', [key], {});\n",
       "      } catch (error) {\n",
       "        console.error('Error during call to suggestCharts:', error);\n",
       "      }\n",
       "      quickchartButtonEl.classList.remove('colab-df-spinner');\n",
       "      quickchartButtonEl.classList.add('colab-df-quickchart-complete');\n",
       "    }\n",
       "    (() => {\n",
       "      let quickchartButtonEl =\n",
       "        document.querySelector('#df-33b808d0-cdd8-4ca6-b0f9-ed4412187fad button');\n",
       "      quickchartButtonEl.style.display =\n",
       "        google.colab.kernel.accessAllowed ? 'block' : 'none';\n",
       "    })();\n",
       "  </script>\n",
       "</div>\n",
       "    </div>\n",
       "  </div>\n"
      ],
      "text/plain": [
       "     Movie_ID  0  User_ID\n",
       "35         35  9        9\n",
       "92         92  9        9\n",
       "257       257  8        8\n",
       "227       227  7        7\n",
       "309       309  4        4"
      ]
     },
     "execution_count": 21,
     "metadata": {},
     "output_type": "execute_result"
    }
   ],
   "source": [
    "movie_rating.groupby('Movie_ID').count().reset_index().sort_values(0, ascending = False)[-5:]"
   ]
  },
  {
   "cell_type": "code",
   "execution_count": null,
   "metadata": {
    "colab": {
     "base_uri": "https://localhost:8080/",
     "height": 455
    },
    "id": "fCFmkSpuo9d0",
    "outputId": "55ae6e85-0650-4916-b132-a12da79abb95"
   },
   "outputs": [
    {
     "data": {
      "text/html": [
       "\n",
       "  <div id=\"df-7c2baa27-140c-4a92-b162-8537024050f3\" class=\"colab-df-container\">\n",
       "    <div>\n",
       "<style scoped>\n",
       "    .dataframe tbody tr th:only-of-type {\n",
       "        vertical-align: middle;\n",
       "    }\n",
       "\n",
       "    .dataframe tbody tr th {\n",
       "        vertical-align: top;\n",
       "    }\n",
       "\n",
       "    .dataframe thead th {\n",
       "        text-align: right;\n",
       "    }\n",
       "</style>\n",
       "<table border=\"1\" class=\"dataframe\">\n",
       "  <thead>\n",
       "    <tr style=\"text-align: right;\">\n",
       "      <th></th>\n",
       "      <th>0</th>\n",
       "      <th>Movie_ID</th>\n",
       "    </tr>\n",
       "    <tr>\n",
       "      <th>User_ID</th>\n",
       "      <th></th>\n",
       "      <th></th>\n",
       "    </tr>\n",
       "  </thead>\n",
       "  <tbody>\n",
       "    <tr>\n",
       "      <th>0</th>\n",
       "      <td>3.892950</td>\n",
       "      <td>528.626632</td>\n",
       "    </tr>\n",
       "    <tr>\n",
       "      <th>1</th>\n",
       "      <td>3.180952</td>\n",
       "      <td>553.819048</td>\n",
       "    </tr>\n",
       "    <tr>\n",
       "      <th>2</th>\n",
       "      <td>3.000000</td>\n",
       "      <td>514.893333</td>\n",
       "    </tr>\n",
       "    <tr>\n",
       "      <th>3</th>\n",
       "      <td>3.526316</td>\n",
       "      <td>518.695906</td>\n",
       "    </tr>\n",
       "    <tr>\n",
       "      <th>4</th>\n",
       "      <td>3.304348</td>\n",
       "      <td>486.637681</td>\n",
       "    </tr>\n",
       "    <tr>\n",
       "      <th>...</th>\n",
       "      <td>...</td>\n",
       "      <td>...</td>\n",
       "    </tr>\n",
       "    <tr>\n",
       "      <th>1677</th>\n",
       "      <td>1.000000</td>\n",
       "      <td>862.000000</td>\n",
       "    </tr>\n",
       "    <tr>\n",
       "      <th>1678</th>\n",
       "      <td>3.000000</td>\n",
       "      <td>862.000000</td>\n",
       "    </tr>\n",
       "    <tr>\n",
       "      <th>1679</th>\n",
       "      <td>2.000000</td>\n",
       "      <td>862.000000</td>\n",
       "    </tr>\n",
       "    <tr>\n",
       "      <th>1680</th>\n",
       "      <td>3.000000</td>\n",
       "      <td>895.000000</td>\n",
       "    </tr>\n",
       "    <tr>\n",
       "      <th>1681</th>\n",
       "      <td>3.000000</td>\n",
       "      <td>915.000000</td>\n",
       "    </tr>\n",
       "  </tbody>\n",
       "</table>\n",
       "<p>1650 rows × 2 columns</p>\n",
       "</div>\n",
       "    <div class=\"colab-df-buttons\">\n",
       "\n",
       "  <div class=\"colab-df-container\">\n",
       "    <button class=\"colab-df-convert\" onclick=\"convertToInteractive('df-7c2baa27-140c-4a92-b162-8537024050f3')\"\n",
       "            title=\"Convert this dataframe to an interactive table.\"\n",
       "            style=\"display:none;\">\n",
       "\n",
       "  <svg xmlns=\"http://www.w3.org/2000/svg\" height=\"24px\" viewBox=\"0 -960 960 960\">\n",
       "    <path d=\"M120-120v-720h720v720H120Zm60-500h600v-160H180v160Zm220 220h160v-160H400v160Zm0 220h160v-160H400v160ZM180-400h160v-160H180v160Zm440 0h160v-160H620v160ZM180-180h160v-160H180v160Zm440 0h160v-160H620v160Z\"/>\n",
       "  </svg>\n",
       "    </button>\n",
       "\n",
       "  <style>\n",
       "    .colab-df-container {\n",
       "      display:flex;\n",
       "      gap: 12px;\n",
       "    }\n",
       "\n",
       "    .colab-df-convert {\n",
       "      background-color: #E8F0FE;\n",
       "      border: none;\n",
       "      border-radius: 50%;\n",
       "      cursor: pointer;\n",
       "      display: none;\n",
       "      fill: #1967D2;\n",
       "      height: 32px;\n",
       "      padding: 0 0 0 0;\n",
       "      width: 32px;\n",
       "    }\n",
       "\n",
       "    .colab-df-convert:hover {\n",
       "      background-color: #E2EBFA;\n",
       "      box-shadow: 0px 1px 2px rgba(60, 64, 67, 0.3), 0px 1px 3px 1px rgba(60, 64, 67, 0.15);\n",
       "      fill: #174EA6;\n",
       "    }\n",
       "\n",
       "    .colab-df-buttons div {\n",
       "      margin-bottom: 4px;\n",
       "    }\n",
       "\n",
       "    [theme=dark] .colab-df-convert {\n",
       "      background-color: #3B4455;\n",
       "      fill: #D2E3FC;\n",
       "    }\n",
       "\n",
       "    [theme=dark] .colab-df-convert:hover {\n",
       "      background-color: #434B5C;\n",
       "      box-shadow: 0px 1px 3px 1px rgba(0, 0, 0, 0.15);\n",
       "      filter: drop-shadow(0px 1px 2px rgba(0, 0, 0, 0.3));\n",
       "      fill: #FFFFFF;\n",
       "    }\n",
       "  </style>\n",
       "\n",
       "    <script>\n",
       "      const buttonEl =\n",
       "        document.querySelector('#df-7c2baa27-140c-4a92-b162-8537024050f3 button.colab-df-convert');\n",
       "      buttonEl.style.display =\n",
       "        google.colab.kernel.accessAllowed ? 'block' : 'none';\n",
       "\n",
       "      async function convertToInteractive(key) {\n",
       "        const element = document.querySelector('#df-7c2baa27-140c-4a92-b162-8537024050f3');\n",
       "        const dataTable =\n",
       "          await google.colab.kernel.invokeFunction('convertToInteractive',\n",
       "                                                    [key], {});\n",
       "        if (!dataTable) return;\n",
       "\n",
       "        const docLinkHtml = 'Like what you see? Visit the ' +\n",
       "          '<a target=\"_blank\" href=https://colab.research.google.com/notebooks/data_table.ipynb>data table notebook</a>'\n",
       "          + ' to learn more about interactive tables.';\n",
       "        element.innerHTML = '';\n",
       "        dataTable['output_type'] = 'display_data';\n",
       "        await google.colab.output.renderOutput(dataTable, element);\n",
       "        const docLink = document.createElement('div');\n",
       "        docLink.innerHTML = docLinkHtml;\n",
       "        element.appendChild(docLink);\n",
       "      }\n",
       "    </script>\n",
       "  </div>\n",
       "\n",
       "\n",
       "<div id=\"df-37094a23-7bb6-4ce6-b7aa-bd74deb7ede0\">\n",
       "  <button class=\"colab-df-quickchart\" onclick=\"quickchart('df-37094a23-7bb6-4ce6-b7aa-bd74deb7ede0')\"\n",
       "            title=\"Suggest charts\"\n",
       "            style=\"display:none;\">\n",
       "\n",
       "<svg xmlns=\"http://www.w3.org/2000/svg\" height=\"24px\"viewBox=\"0 0 24 24\"\n",
       "     width=\"24px\">\n",
       "    <g>\n",
       "        <path d=\"M19 3H5c-1.1 0-2 .9-2 2v14c0 1.1.9 2 2 2h14c1.1 0 2-.9 2-2V5c0-1.1-.9-2-2-2zM9 17H7v-7h2v7zm4 0h-2V7h2v10zm4 0h-2v-4h2v4z\"/>\n",
       "    </g>\n",
       "</svg>\n",
       "  </button>\n",
       "\n",
       "<style>\n",
       "  .colab-df-quickchart {\n",
       "      --bg-color: #E8F0FE;\n",
       "      --fill-color: #1967D2;\n",
       "      --hover-bg-color: #E2EBFA;\n",
       "      --hover-fill-color: #174EA6;\n",
       "      --disabled-fill-color: #AAA;\n",
       "      --disabled-bg-color: #DDD;\n",
       "  }\n",
       "\n",
       "  [theme=dark] .colab-df-quickchart {\n",
       "      --bg-color: #3B4455;\n",
       "      --fill-color: #D2E3FC;\n",
       "      --hover-bg-color: #434B5C;\n",
       "      --hover-fill-color: #FFFFFF;\n",
       "      --disabled-bg-color: #3B4455;\n",
       "      --disabled-fill-color: #666;\n",
       "  }\n",
       "\n",
       "  .colab-df-quickchart {\n",
       "    background-color: var(--bg-color);\n",
       "    border: none;\n",
       "    border-radius: 50%;\n",
       "    cursor: pointer;\n",
       "    display: none;\n",
       "    fill: var(--fill-color);\n",
       "    height: 32px;\n",
       "    padding: 0;\n",
       "    width: 32px;\n",
       "  }\n",
       "\n",
       "  .colab-df-quickchart:hover {\n",
       "    background-color: var(--hover-bg-color);\n",
       "    box-shadow: 0 1px 2px rgba(60, 64, 67, 0.3), 0 1px 3px 1px rgba(60, 64, 67, 0.15);\n",
       "    fill: var(--button-hover-fill-color);\n",
       "  }\n",
       "\n",
       "  .colab-df-quickchart-complete:disabled,\n",
       "  .colab-df-quickchart-complete:disabled:hover {\n",
       "    background-color: var(--disabled-bg-color);\n",
       "    fill: var(--disabled-fill-color);\n",
       "    box-shadow: none;\n",
       "  }\n",
       "\n",
       "  .colab-df-spinner {\n",
       "    border: 2px solid var(--fill-color);\n",
       "    border-color: transparent;\n",
       "    border-bottom-color: var(--fill-color);\n",
       "    animation:\n",
       "      spin 1s steps(1) infinite;\n",
       "  }\n",
       "\n",
       "  @keyframes spin {\n",
       "    0% {\n",
       "      border-color: transparent;\n",
       "      border-bottom-color: var(--fill-color);\n",
       "      border-left-color: var(--fill-color);\n",
       "    }\n",
       "    20% {\n",
       "      border-color: transparent;\n",
       "      border-left-color: var(--fill-color);\n",
       "      border-top-color: var(--fill-color);\n",
       "    }\n",
       "    30% {\n",
       "      border-color: transparent;\n",
       "      border-left-color: var(--fill-color);\n",
       "      border-top-color: var(--fill-color);\n",
       "      border-right-color: var(--fill-color);\n",
       "    }\n",
       "    40% {\n",
       "      border-color: transparent;\n",
       "      border-right-color: var(--fill-color);\n",
       "      border-top-color: var(--fill-color);\n",
       "    }\n",
       "    60% {\n",
       "      border-color: transparent;\n",
       "      border-right-color: var(--fill-color);\n",
       "    }\n",
       "    80% {\n",
       "      border-color: transparent;\n",
       "      border-right-color: var(--fill-color);\n",
       "      border-bottom-color: var(--fill-color);\n",
       "    }\n",
       "    90% {\n",
       "      border-color: transparent;\n",
       "      border-bottom-color: var(--fill-color);\n",
       "    }\n",
       "  }\n",
       "</style>\n",
       "\n",
       "  <script>\n",
       "    async function quickchart(key) {\n",
       "      const quickchartButtonEl =\n",
       "        document.querySelector('#' + key + ' button');\n",
       "      quickchartButtonEl.disabled = true;  // To prevent multiple clicks.\n",
       "      quickchartButtonEl.classList.add('colab-df-spinner');\n",
       "      try {\n",
       "        const charts = await google.colab.kernel.invokeFunction(\n",
       "            'suggestCharts', [key], {});\n",
       "      } catch (error) {\n",
       "        console.error('Error during call to suggestCharts:', error);\n",
       "      }\n",
       "      quickchartButtonEl.classList.remove('colab-df-spinner');\n",
       "      quickchartButtonEl.classList.add('colab-df-quickchart-complete');\n",
       "    }\n",
       "    (() => {\n",
       "      let quickchartButtonEl =\n",
       "        document.querySelector('#df-37094a23-7bb6-4ce6-b7aa-bd74deb7ede0 button');\n",
       "      quickchartButtonEl.style.display =\n",
       "        google.colab.kernel.accessAllowed ? 'block' : 'none';\n",
       "    })();\n",
       "  </script>\n",
       "</div>\n",
       "    </div>\n",
       "  </div>\n"
      ],
      "text/plain": [
       "                0    Movie_ID\n",
       "User_ID                      \n",
       "0        3.892950  528.626632\n",
       "1        3.180952  553.819048\n",
       "2        3.000000  514.893333\n",
       "3        3.526316  518.695906\n",
       "4        3.304348  486.637681\n",
       "...           ...         ...\n",
       "1677     1.000000  862.000000\n",
       "1678     3.000000  862.000000\n",
       "1679     2.000000  862.000000\n",
       "1680     3.000000  895.000000\n",
       "1681     3.000000  915.000000\n",
       "\n",
       "[1650 rows x 2 columns]"
      ]
     },
     "execution_count": 25,
     "metadata": {},
     "output_type": "execute_result"
    }
   ],
   "source": [
    "avg_rating_by_user = movie_rating.groupby('User_ID').mean()\n",
    "avg_rating_by_user"
   ]
  },
  {
   "cell_type": "code",
   "execution_count": 272,
   "metadata": {
    "id": "E_kl9CJtaAf9"
   },
   "outputs": [],
   "source": [
    "#@title Download Dataset (IMDB)\n",
    "dir2 = pwd+'/IMDB'\n",
    "imdb = datasets.IMDB(dir2)"
   ]
  },
  {
   "cell_type": "code",
   "execution_count": 218,
   "metadata": {
    "colab": {
     "base_uri": "https://localhost:8080/"
    },
    "id": "1rCKKgYrFmJ6",
    "outputId": "5f52a004-270f-4cf4-9784-6a87444e14da"
   },
   "outputs": [
    {
     "name": "stdout",
     "output_type": "stream",
     "text": [
      "Movie has 11616 nodes\n",
      "Movie has 34212 edges\n",
      "graph is directed or not: False\n",
      "Movie dataset has 4278 movie nodes\n",
      "Movie dataset has 3066 movie node features\n",
      "Movie dataset has 5257 actor nodes\n",
      "Movie dataset has 3066 actor node features\n",
      "Movie dataset has 12828 edges\n"
     ]
    }
   ],
   "source": [
    "# Exploratory\n",
    "imdb_dataset = imdb[0]\n",
    "num_nodes = imdb_dataset.num_nodes\n",
    "print('Movie has {} nodes'.format(num_nodes))\n",
    "\n",
    "num_edges = imdb_dataset.num_edges\n",
    "print('Movie has {} edges'.format(num_edges))\n",
    "\n",
    "is_directed = imdb_dataset.is_directed()\n",
    "print(\"graph is directed or not:\", is_directed)\n",
    "\n",
    "# Movie Nodes\n",
    "movie_nodes = imdb_dataset['movie']\n",
    "movie_nodes_num = imdb_dataset['movie'].x.shape[0]\n",
    "movie_features = imdb_dataset['movie'].x.shape[1]\n",
    "print('Movie dataset has {} movie nodes'.format(movie_nodes_num))\n",
    "print('Movie dataset has {} movie node features'.format(movie_features))\n",
    "\n",
    "# Actor Nodes\n",
    "actor_nodes = imdb_dataset['actor']\n",
    "actor_nodes_nums = imdb_dataset['actor'].x.shape[0]\n",
    "actor_features = imdb_dataset['actor'].x.shape[1]\n",
    "print('Movie dataset has {} actor nodes'.format(actor_nodes_nums))\n",
    "print('Movie dataset has {} actor node features'.format(actor_features))\n",
    "\n",
    "# Edges\n",
    "egdes = imdb_dataset[('movie', 'to', 'actor')]\n",
    "undircted_egdes = egdes['edge_index'].shape[1]\n",
    "print('Movie dataset has {} edges'.format(undircted_egdes))"
   ]
  },
  {
   "cell_type": "code",
   "execution_count": 252,
   "metadata": {},
   "outputs": [
    {
     "data": {
      "text/plain": [
       "[Text(0.5, 0, 'Number of Movies'), Text(0, 0.5, 'Frequency')]"
      ]
     },
     "execution_count": 252,
     "metadata": {},
     "output_type": "execute_result"
    },
    {
     "data": {
      "image/png": "[encoded data removed]",
      "text/plain": [
       "<Figure size 640x480 with 1 Axes>"
      ]
     },
     "metadata": {},
     "output_type": "display_data"
    }
   ],
   "source": [
    "## Visualizations, Actors' Movie Counts\n",
    "movie_actor = pd.DataFrame()\n",
    "\n",
    "movie_actor['Actor_ID']= egdes['edge_index'][1]\n",
    "movie_actor['Movie_ID']=egdes['edge_index'][0]\n",
    "\n",
    "movie_count_per_actor = movie_actor.groupby('Actor_ID').count().reset_index()\n",
    "movie_actor_freq = movie_count_per_actor['Movie_ID']\n",
    "freq = movie_actor_freq.value_counts().sort_index()\n",
    "\n",
    "color = sns.color_palette(\"pastel\")\n",
    "fig = sns.barplot(x = freq.index[:10],\n",
    "                    y = freq.values[:10],\n",
    "            palette = color[:5])\n",
    "fig.set(xlabel='Number of Movies', ylabel='Frequency')\n"
   ]
  },
  {
   "cell_type": "markdown",
   "metadata": {
    "id": "wN_ZPawmYfRj"
   },
   "source": [
    "## Part 2. Pre-Process Data"
   ]
  },
  {
   "cell_type": "markdown",
   "metadata": {
    "id": "HU_0rP7JaTxH"
   },
   "source": [
    "### MovieLens\n",
    "\n",
    "#### Not Randomlized"
   ]
  },
  {
   "cell_type": "code",
   "execution_count": 81,
   "metadata": {
    "id": "HaPJHyclbLzC"
   },
   "outputs": [],
   "source": [
    "## Separate Train and test dataset\n",
    "import numpy as np\n",
    "\n",
    "rating = movielens_data[('user', 'rates', 'movie')]['rating'].numpy()\n",
    "user_index = movielens_data[('user', 'rates', 'movie')]['edge_index'][0][rating>=3].numpy()\n",
    "movie_index = movielens_data[('user', 'rates', 'movie')]['edge_index'][1][rating>=3].numpy()\n",
    "positive_rating = rating[rating>=3]\n",
    "\n",
    "# Shuffle the indices\n",
    "indices = np.arange(positive_rating.shape[0])\n",
    "np.random.shuffle(indices)\n",
    "\n",
    "# Split the indices (80% train, 20% test)\n",
    "train_size = int(0.8 * len(indices))\n",
    "\n",
    "train_indices = indices[:train_size]\n",
    "test_indices = indices[train_size:]\n",
    "\n",
    "train_data_lens = user_index[train_indices],  movie_index[train_indices], positive_rating[train_indices],\n",
    "test_data_lens = user_index[test_indices], movie_index[test_indices], positive_rating[test_indices]"
   ]
  },
  {
   "cell_type": "code",
   "execution_count": 9,
   "metadata": {
    "id": "Tt9AbNg_cmVy"
   },
   "outputs": [],
   "source": [
    "from torch.utils.data import Dataset, DataLoader, RandomSampler\n",
    "\n",
    "class MovieLensDataset(Dataset):\n",
    "    def __init__(self, user_index, movie_index, ratings):\n",
    "        self.user_index = user_index\n",
    "        self.movie_index = movie_index\n",
    "        self.ratings = ratings\n",
    "\n",
    "    def __len__(self):\n",
    "        return len(self.user_index)\n",
    "\n",
    "    def __getitem__(self, idx):\n",
    "        return self.user_index[idx], self.movie_index[idx], self.ratings[idx]\n",
    "\n",
    "train_dataset_lens = MovieLensDataset(train_data_lens[0], train_data_lens[1], train_data_lens[2])\n",
    "train_loader_movielens = DataLoader(train_dataset_lens, batch_size= 124, shuffle = True)"
   ]
  },
  {
   "cell_type": "markdown",
   "metadata": {
    "id": "KzFGgb12KpI4"
   },
   "source": [
    "#### Randomized"
   ]
  },
  {
   "cell_type": "code",
   "execution_count": 148,
   "metadata": {},
   "outputs": [],
   "source": [
    "sampler_10 = RandomSampler(train_data_lens, replacement = True, num_samples = 42304) # We only sample 80% of data at random\n",
    "train_loader_movielens_10 = DataLoader(train_dataset_lens, batch_size= 124, sampler = sampler_10)"
   ]
  },
  {
   "cell_type": "markdown",
   "metadata": {
    "id": "KzFGgb12KpI4"
   },
   "source": [
    "### IMDB"
   ]
  },
  {
   "cell_type": "code",
   "execution_count": 96,
   "metadata": {},
   "outputs": [],
   "source": [
    "## Separate Train and test dataset\n",
    "import numpy as np\n",
    "\n",
    "edges = imdb_dataset[('movie', 'to', 'actor')]['edge_index']\n",
    "actor_index = edges[1].numpy()\n",
    "movie_index = edges[0].numpy()\n",
    "labels = np.ones(edges.shape[1])\n",
    "\n",
    "# Shuffle the indices\n",
    "indices = np.arange(edges.shape[1])\n",
    "np.random.shuffle(indices)\n",
    "\n",
    "# Split the indices (80% train, 20% test)\n",
    "train_size = int(0.8 * len(indices))\n",
    "\n",
    "train_indices = indices[:train_size]\n",
    "test_indices = indices[train_size:]\n",
    "\n",
    "train_data_imdb = actor_index[train_indices],  movie_index[train_indices], labels[train_indices],\n",
    "test_data_imdb = actor_index[test_indices], movie_index[test_indices], labels[test_indices]"
   ]
  },
  {
   "cell_type": "code",
   "execution_count": 97,
   "metadata": {},
   "outputs": [],
   "source": [
    "from torch.utils.data import Dataset, DataLoader, RandomSampler\n",
    "\n",
    "class IMDBDataset(Dataset):\n",
    "    def __init__(self, actor_index, movie_index, labels):\n",
    "        self.actor_index = actor_index\n",
    "        self.movie_index = movie_index\n",
    "        self.labels = labels\n",
    "\n",
    "    def __len__(self):\n",
    "        return len(self.actor_index)\n",
    "\n",
    "    def __getitem__(self, idx):\n",
    "        return self.actor_index[idx], self.movie_index[idx], self.labels[idx]\n",
    "\n",
    "train_dataset_imdb = IMDBDataset(train_data_imdb[0], train_data_imdb[1], train_data_imdb[2])\n",
    "train_loader_IMDB = DataLoader(train_dataset_imdb, batch_size= 124, shuffle = True)"
   ]
  },
  {
   "cell_type": "code",
   "execution_count": 149,
   "metadata": {},
   "outputs": [],
   "source": [
    "sampler_10 = RandomSampler(train_dataset_imdb, replacement = True, num_samples = 8208) # We only samples 80% of data at random\n",
    "train_loader_IMDB_10 = DataLoader(train_dataset_lens, batch_size= 124, sampler = sampler_10)"
   ]
  },
  {
   "cell_type": "markdown",
   "metadata": {
    "id": "KzFGgb12KpI4"
   },
   "source": [
    "## Part 3. Model Designing"
   ]
  },
  {
   "cell_type": "markdown",
   "metadata": {
    "id": "iqxAKwiGTeRF"
   },
   "source": [
    "### NGCF (REFERENCE)\n",
    "\n",
    "* https://medium.com/@pytorch_geometric/link-prediction-on-heterogeneous-graphs-with-pyg-6d5c29677c70\n",
    "* https://github.com/huangtinglin/NGCF-PyTorch/tree/master/NGCF\n",
    "* https://github.com/xiangwang1223/neural_graph_collaborative_filtering/blob/master/NGCF/NGCF.py\n",
    "* https://medium.com/@meuleman.mathias/reproducing-neural-graph-collaborative-filtering-a8982c7d3df6\n",
    "*  https://medium.com/stanford-cs224w/recommender-systems-with-gnns-in-pyg-d8301178e377"
   ]
  },
  {
   "cell_type": "code",
   "execution_count": 13,
   "metadata": {
    "id": "2OrH6GW_OpVA"
   },
   "outputs": [],
   "source": [
    "#@title Define NGCF Class\n",
    "import torch\n",
    "import torch.nn as nn\n",
    "import torch.nn.functional as F\n",
    "from torch_geometric.nn.conv import MessagePassing\n",
    "from torch_geometric.utils import degree\n",
    "\n",
    "class NGCF(MessagePassing):\n",
    "    def __init__(self, embed_dim, dropout, bias=True, **kwargs):\n",
    "        super(NGCF, self).__init__(aggr='add', **kwargs)\n",
    "        \n",
    "        self.dropout = dropout\n",
    "        \n",
    "        self.Linear1 = nn.Linear(embed_dim, embed_dim, bias=bias)\n",
    "        self.Linear2 = nn.Linear(embed_dim, embed_dim, bias=bias)\n",
    "        \n",
    "        self.init_parameters()\n",
    "\n",
    "    def init_parameters(self):\n",
    "        nn.init.xavier_uniform_(self.Linear1.weight)\n",
    "        nn.init.xavier_uniform_(self.Linear2.weight)\n",
    "\n",
    "    def forward(self, x, edge_index):\n",
    "        # Compute normalization\n",
    "        from_, to_ = edge_index\n",
    "        deg = degree(to_, x.size(0), dtype=x.dtype)\n",
    "        D_sqrt = deg.pow(-0.5)\n",
    "        D_sqrt[D_sqrt == float('inf')] = 0\n",
    "        norm = D_sqrt[from_] * D_sqrt[to_]\n",
    "\n",
    "        # Start propagating messages\n",
    "        out = self.propagate(edge_index, x=(x, x), norm=norm)\n",
    "\n",
    "        # Perform update after aggregation\n",
    "        out += self.Linear1(x)\n",
    "        out = F.dropout(out, self.dropout, self.training)\n",
    "        return F.leaky_relu(out)\n",
    "\n",
    "    def message(self, x2, x1, norm):\n",
    "        return norm.view(-1, 1) * (self.Linear1(x2) + self.Linear2(x2 * x1))"
   ]
  },
  {
   "cell_type": "code",
   "execution_count": 263,
   "metadata": {
    "id": "nT5LTkI8Ml1c"
   },
   "outputs": [],
   "source": [
    "class NGCF_Final(nn.Module):\n",
    "    def __init__(self, embed_dim, layers, num_users, num_items, dropout=0.1):\n",
    "        super(NGCF_Final, self).__init__()\n",
    "        self.embedding = nn.Embedding(num_users + num_items, embed_dim)\n",
    "        self.convs = nn.ModuleList(NGCF(embed_dim, dropout=dropout) for i in range(layers))\n",
    "        self.init_parameters()\n",
    "\n",
    "    def init_parameters(self):\n",
    "        nn.init.xavier_uniform_(self.embedding.weight, gain=1)\n",
    "\n",
    "    def forward(self, edge_index):\n",
    "        emb_prev = self.embedding.weight\n",
    "        embs = [emb_prev]\n",
    "        emb = emb_prev\n",
    "        for conv in self.convs:\n",
    "            emb = conv(x=emb, edge_index=edge_index)\n",
    "            embs.append(emb)\n",
    "\n",
    "        out = (torch.cat(embs, dim=-1))\n",
    "        return emb_prev, out\n",
    "\n",
    "    def encode(self, users, items, edge_index):\n",
    "        emb_prev, out = self(edge_index)\n",
    "        return (\n",
    "            out[users],\n",
    "            out[items],\n",
    "            emb_prev[users],\n",
    "            emb_prev[items]\n",
    "        )"
   ]
  },
  {
   "cell_type": "markdown",
   "metadata": {
    "id": "EGrgbcrPVZRY"
   },
   "source": [
    "## Part 4. Model Training"
   ]
  },
  {
   "cell_type": "markdown",
   "metadata": {
    "id": "EtPx92CvVsg1"
   },
   "source": [
    "### Movie Lens"
   ]
  },
  {
   "cell_type": "code",
   "execution_count": 265,
   "metadata": {
    "colab": {
     "base_uri": "https://localhost:8080/"
    },
    "id": "RcBniB6aGGW-",
    "outputId": "252dc082-626b-452e-bf84-445059a96a9e"
   },
   "outputs": [
    {
     "data": {
      "text/plain": [
       "tensor([[ 697,  520,  549,  ..., 5403, 5795, 5938],\n",
       "        [6405, 5776, 5493,  ...,   71,  897,  759]])"
      ]
     },
     "execution_count": 265,
     "metadata": {},
     "output_type": "execute_result"
    }
   ],
   "source": [
    "import torch.optim as optim\n",
    "\n",
    "# Define Train_Egde_Index\n",
    "u = torch.LongTensor(train_data_lens[0])\n",
    "i = torch.LongTensor(train_data_lens[1]) + num_users\n",
    "\n",
    "train_edge_index_lens = torch.stack((\n",
    "  torch.cat([u, i]),\n",
    "  torch.cat([i, u])\n",
    ")).to(device)\n",
    "\n",
    "train_edge_index_lens"
   ]
  },
  {
   "cell_type": "code",
   "execution_count": 28,
   "metadata": {},
   "outputs": [
    {
     "name": "stdout",
     "output_type": "stream",
     "text": [
      "Epoch [1/20], MSE Loss: 1.044284887978288, Log Loss: 0.030012795518411964\n",
      "Epoch [2/20], MSE Loss: 0.6284121698601742, Log Loss: 0.022635885263494363\n",
      "Epoch [3/20], MSE Loss: 0.5938380477858372, Log Loss: 0.0222088060880503\n",
      "Epoch [4/20], MSE Loss: 0.571651102508259, Log Loss: 0.022009934200545384\n",
      "Epoch [5/20], MSE Loss: 0.5585117317753597, Log Loss: 0.022006651630899945\n",
      "Epoch [6/20], MSE Loss: 0.5398411876423855, Log Loss: 0.0219134801488361\n",
      "Epoch [7/20], MSE Loss: 0.5249717790432781, Log Loss: 0.02196432745620713\n",
      "Epoch [8/20], MSE Loss: 0.50631126126305, Log Loss: 0.02200272312906922\n",
      "Epoch [9/20], MSE Loss: 0.4907415537839751, Log Loss: 0.022117475606064887\n",
      "Epoch [10/20], MSE Loss: 0.47284897826873723, Log Loss: 0.022207529142289587\n",
      "Epoch [11/20], MSE Loss: 0.45783327307019916, Log Loss: 0.02232019976653874\n",
      "Epoch [12/20], MSE Loss: 0.44313744366587743, Log Loss: 0.022390743338042734\n",
      "Epoch [13/20], MSE Loss: 0.42879884820911307, Log Loss: 0.022537144332844983\n",
      "Epoch [14/20], MSE Loss: 0.4145221872128703, Log Loss: 0.022597468617335137\n",
      "Epoch [15/20], MSE Loss: 0.39615929796768296, Log Loss: 0.022673883586598505\n",
      "Epoch [16/20], MSE Loss: 0.38763267880161695, Log Loss: 0.02283396694451501\n",
      "Epoch [17/20], MSE Loss: 0.3769501793859156, Log Loss: 0.022860499936432972\n",
      "Epoch [18/20], MSE Loss: 0.364284126659467, Log Loss: 0.02292218832713519\n",
      "Epoch [19/20], MSE Loss: 0.3544140898511337, Log Loss: 0.023020941388969957\n",
      "Epoch [20/20], MSE Loss: 0.3440350819666994, Log Loss: 0.02308058254071784\n"
     ]
    }
   ],
   "source": [
    "## Model 0. Based on MSE loss and non-randomized Data\n",
    "num_users = 943  # Total number of users\n",
    "num_items = 1682  # Total number of items\n",
    "emb_dim = 64  # Embedding dimension\n",
    "layers = 2  # Layer sizes for GCN\n",
    "\n",
    "modelNGCF_movielens_0 = NGCF_Final(emb_dim, layers, num_users, num_items)\n",
    "criterion = nn.MSELoss()  # or nn.BCELoss() for binary data\n",
    "optimizer = optim.Adam(modelNGCF_movielens_0.parameters(), lr=0.001)\n",
    "\n",
    "num_epochs = 20  # Number of training epochs\n",
    "mse_list_epoch_lens0 = []\n",
    "log_list_epoch_lens0 = []\n",
    "\n",
    "# Training loop\n",
    "for epoch in range(num_epochs):\n",
    "    modelNGCF_movielens_0.train()\n",
    "    mse_total_loss = 0\n",
    "    log_total_loss = 0\n",
    "\n",
    "    for user_indices, item_indices, ratings in train_loader_movielens:\n",
    "        # Forward pass\n",
    "        users_emb, item_emb, _,  _ = modelNGCF_movielens_0.encode(user_indices, item_indices, train_edge_index_lens)\n",
    "        outputs = torch.mul(users_emb, item_emb).sum(dim=1)\n",
    "        mse_loss = criterion(outputs.float(), ratings.float())\n",
    "        log_loss = -(torch.log(torch.sigmoid(outputs))).mean()\n",
    "\n",
    "        # Backward and optimize\n",
    "        optimizer.zero_grad()\n",
    "        mse_loss.backward()\n",
    "        optimizer.step()\n",
    "\n",
    "        mse_total_loss += mse_loss.item()\n",
    "        log_total_loss += log_loss.item()\n",
    "\n",
    "    mse_list_epoch_lens0.append(round(mse_total_loss/len(train_loader_movielens),4))\n",
    "    log_list_epoch_lens0.append(log_total_loss/len(train_loader_movielens))\n",
    "\n",
    "    print(f\"Epoch [{epoch+1}/{num_epochs}], MSE Loss: {mse_total_loss/len(train_loader_movielens)}, Log Loss: {log_total_loss/len(train_loader_movielens)}\")"
   ]
  },
  {
   "cell_type": "code",
   "execution_count": 23,
   "metadata": {
    "colab": {
     "base_uri": "https://localhost:8080/"
    },
    "id": "cuIn7MCiVrgq",
    "outputId": "ba7a0360-1950-4484-8707-13ee8b548c8a",
    "scrolled": false
   },
   "outputs": [
    {
     "name": "stdout",
     "output_type": "stream",
     "text": [
      "Epoch [1/20], MSE Loss: 0.9906321934291294, Log Loss: 0.02863086642701816\n",
      "Epoch [2/20], MSE Loss: 0.6085524351032892, Log Loss: 0.02206894044766521\n",
      "Epoch [3/20], MSE Loss: 0.5740583262622216, Log Loss: 0.02169456926176643\n",
      "Epoch [4/20], MSE Loss: 0.5634794275012451, Log Loss: 0.02161943151744244\n",
      "Epoch [5/20], MSE Loss: 0.5451648469133176, Log Loss: 0.02160057963790324\n",
      "Epoch [6/20], MSE Loss: 0.5308792419400092, Log Loss: 0.02161976849917645\n",
      "Epoch [7/20], MSE Loss: 0.5190055335433478, Log Loss: 0.021713479389316583\n",
      "Epoch [8/20], MSE Loss: 0.5009860256097914, Log Loss: 0.021766608694363254\n",
      "Epoch [9/20], MSE Loss: 0.49491166963789446, Log Loss: 0.021928058505337467\n",
      "Epoch [10/20], MSE Loss: 0.4703110275000543, Log Loss: 0.021955437351899348\n",
      "Epoch [11/20], MSE Loss: 0.46125819427626474, Log Loss: 0.02206664317368205\n",
      "Epoch [12/20], MSE Loss: 0.4440006390388453, Log Loss: 0.02214964152917929\n",
      "Epoch [13/20], MSE Loss: 0.430551036808474, Log Loss: 0.022237740871463782\n",
      "Epoch [14/20], MSE Loss: 0.415471187101315, Log Loss: 0.022307951962989722\n",
      "Epoch [15/20], MSE Loss: 0.406201212202358, Log Loss: 0.022408931657881312\n",
      "Epoch [16/20], MSE Loss: 0.391793209370182, Log Loss: 0.022516392507269733\n",
      "Epoch [17/20], MSE Loss: 0.3817348626793408, Log Loss: 0.02264382695425869\n",
      "Epoch [18/20], MSE Loss: 0.364895622680003, Log Loss: 0.022649558540215536\n",
      "Epoch [19/20], MSE Loss: 0.35523819284779684, Log Loss: 0.022650317142802603\n",
      "Epoch [20/20], MSE Loss: 0.3481941262229544, Log Loss: 0.022757052908492312\n"
     ]
    }
   ],
   "source": [
    "## Model 1. Based on total loss and non-randomized Data\n",
    "num_users = 943  # Total number of users\n",
    "num_items = 1682  # Total number of items\n",
    "emb_dim = 64  # Embedding dimension\n",
    "layers = 2  # Layer sizes for GCN\n",
    "\n",
    "modelNGCF_movielens_1 = NGCF_Final(emb_dim, layers, num_users, num_items)\n",
    "criterion = nn.MSELoss()  # or nn.BCELoss() for binary data\n",
    "optimizer = optim.Adam(modelNGCF_movielens_1.parameters(), lr=0.001)\n",
    "\n",
    "num_epochs = 20  # Number of training epochs\n",
    "mse_list_epoch_lens1 = []\n",
    "log_list_epoch_lens1 = []\n",
    "\n",
    "# Training loop\n",
    "for epoch in range(num_epochs):\n",
    "    modelNGCF_movielens_1.train()\n",
    "    mse_total_loss = 0\n",
    "    log_total_loss = 0\n",
    "\n",
    "    for user_indices, item_indices, ratings in train_loader_movielens:\n",
    "        # Forward pass\n",
    "        users_emb, item_emb, _,  _ = modelNGCF_movielens_1.encode(user_indices, item_indices, train_edge_index_lens)\n",
    "        outputs = torch.mul(users_emb, item_emb).sum(dim=1)\n",
    "        mse_loss = criterion(outputs.float(), ratings.float())\n",
    "        log_loss = -(torch.log(torch.sigmoid(outputs))).mean()\n",
    "        total_loss = mse_loss+log_loss\n",
    "\n",
    "        # Backward and optimize\n",
    "        optimizer.zero_grad()\n",
    "        total_loss.backward()\n",
    "        optimizer.step()\n",
    "\n",
    "        mse_total_loss += mse_loss.item()\n",
    "        log_total_loss += log_loss.item()\n",
    "\n",
    "    mse_list_epoch_lens1.append(round(mse_total_loss/len(train_loader_movielens),4))\n",
    "    log_list_epoch_lens1.append(log_total_loss/len(train_loader_movielens))\n",
    "\n",
    "    print(f\"Epoch [{epoch+1}/{num_epochs}], MSE Loss: {mse_total_loss/len(train_loader_movielens)}, Log Loss: {log_total_loss/len(train_loader_movielens)}\")"
   ]
  },
  {
   "cell_type": "code",
   "execution_count": 185,
   "metadata": {
    "scrolled": false
   },
   "outputs": [
    {
     "name": "stdout",
     "output_type": "stream",
     "text": [
      "Epoch [1/20], MSE Loss: 0.22770995208591888, Log Loss: 0.02098777866786161\n",
      "Epoch [2/20], MSE Loss: 0.12316000413276222, Log Loss: 0.019712423543549247\n",
      "Epoch [3/20], MSE Loss: 0.12146443495157921, Log Loss: 0.019669723808656486\n",
      "Epoch [4/20], MSE Loss: 0.10213835004884586, Log Loss: 0.019395359070176445\n",
      "Epoch [5/20], MSE Loss: 0.08922058455469033, Log Loss: 0.01924894388754204\n",
      "Epoch [6/20], MSE Loss: 0.08211056562889454, Log Loss: 0.019089339222018307\n",
      "Epoch [7/20], MSE Loss: 0.07380396205515258, Log Loss: 0.018995414632345328\n",
      "Epoch [8/20], MSE Loss: 0.06558486927955613, Log Loss: 0.018926176955999685\n",
      "Epoch [9/20], MSE Loss: 0.06046047083364952, Log Loss: 0.01879696991588724\n",
      "Epoch [10/20], MSE Loss: 0.06344680404933904, Log Loss: 0.018869700776249693\n",
      "Epoch [11/20], MSE Loss: 0.05661645089769709, Log Loss: 0.018787018671544673\n",
      "Epoch [12/20], MSE Loss: 0.05494158111386034, Log Loss: 0.018725217684929133\n",
      "Epoch [13/20], MSE Loss: 0.05046497562601318, Log Loss: 0.01870394787582302\n",
      "Epoch [14/20], MSE Loss: 0.04701056811626325, Log Loss: 0.01859983883264382\n",
      "Epoch [15/20], MSE Loss: 0.04562472703690336, Log Loss: 0.01863783877615256\n",
      "Epoch [16/20], MSE Loss: 0.042706021697724056, Log Loss: 0.0185775045708519\n",
      "Epoch [17/20], MSE Loss: 0.03740943195223427, Log Loss: 0.018480066833636392\n",
      "Epoch [18/20], MSE Loss: 0.039217967783919214, Log Loss: 0.01853794995041793\n",
      "Epoch [19/20], MSE Loss: 0.03421557626951818, Log Loss: 0.018454300462981764\n",
      "Epoch [20/20], MSE Loss: 0.030273941356916124, Log Loss: 0.018436446271248554\n"
     ]
    }
   ],
   "source": [
    "## Model 2. Based on total loss and randomized Data 80%\n",
    "num_users = 943  # Total number of users\n",
    "num_items = 1682  # Total number of items\n",
    "emb_dim = 64  # Embedding dimension\n",
    "layers = 2  # Layer sizes for GCN\n",
    "\n",
    "modelNGCF_movielens_2 = NGCF_Final(emb_dim, layers, num_users, num_items)\n",
    "criterion = nn.MSELoss()  # or nn.BCELoss() for binary data\n",
    "optimizer = optim.Adam(modelNGCF_movielens_2.parameters(), lr=0.001)\n",
    "\n",
    "num_epochs = 20  # Number of training epochs\n",
    "mse_list_epoch_lens2 = []\n",
    "log_list_epoch_lens2 = []\n",
    "\n",
    "# Training loop\n",
    "for epoch in range(num_epochs):\n",
    "    modelNGCF_movielens_2.train()\n",
    "    mse_total_loss = 0\n",
    "    log_total_loss = 0\n",
    "\n",
    "    for user_indices, item_indices, ratings in train_loader_movielens_10:\n",
    "        # Forward pass\n",
    "        users_emb, item_emb, _,  _ = modelNGCF_movielens_2.encode(user_indices, item_indices, train_edge_index_lens)\n",
    "        outputs = torch.mul(users_emb, item_emb).sum(dim=1)\n",
    "        mse_loss = criterion(outputs.float(), ratings.float())\n",
    "        log_loss = -(torch.log(torch.sigmoid(outputs))).mean()\n",
    "        total_loss = mse_loss+log_loss\n",
    "\n",
    "        # Backward and optimize\n",
    "        optimizer.zero_grad()\n",
    "        total_loss.backward()\n",
    "        optimizer.step()\n",
    "\n",
    "        mse_total_loss += mse_loss.item()\n",
    "        log_total_loss += log_loss.item()\n",
    "\n",
    "    mse_list_epoch_lens2.append(round(mse_total_loss/len(train_loader_movielens_10),4))\n",
    "    log_list_epoch_lens2.append(log_total_loss/len(train_loader_movielens_10))\n",
    "\n",
    "    print(f\"Epoch [{epoch+1}/{num_epochs}], MSE Loss: {mse_total_loss/len(train_loader_movielens_10)}, Log Loss: {log_total_loss/len(train_loader_movielens_10)}\")"
   ]
  },
  {
   "cell_type": "code",
   "execution_count": 202,
   "metadata": {},
   "outputs": [
    {
     "name": "stdout",
     "output_type": "stream",
     "text": [
      "Epoch [1/20], MSE Loss: 4.820128711660238, Log Loss: 0.037523974284182894\n",
      "Epoch [2/20], MSE Loss: 0.67688230587392, Log Loss: 0.022956702631376946\n",
      "Epoch [3/20], MSE Loss: 0.6246220584635992, Log Loss: 0.022280418582312955\n",
      "Epoch [4/20], MSE Loss: 0.5972636752441282, Log Loss: 0.021975772865378326\n",
      "Epoch [5/20], MSE Loss: 0.5845638744585407, Log Loss: 0.02179424399270107\n",
      "Epoch [6/20], MSE Loss: 0.5698747799603107, Log Loss: 0.021658530122921116\n",
      "Epoch [7/20], MSE Loss: 0.5607684084347316, Log Loss: 0.02162250372160235\n",
      "Epoch [8/20], MSE Loss: 0.5493929179546705, Log Loss: 0.021525473584719786\n",
      "Epoch [9/20], MSE Loss: 0.5413727846162381, Log Loss: 0.021616626775167028\n",
      "Epoch [10/20], MSE Loss: 0.5262311840783238, Log Loss: 0.021552773432444074\n",
      "Epoch [11/20], MSE Loss: 0.5186690441758068, Log Loss: 0.02161457016191661\n",
      "Epoch [12/20], MSE Loss: 0.5081245841968813, Log Loss: 0.02165311382564365\n",
      "Epoch [13/20], MSE Loss: 0.4926471459642227, Log Loss: 0.021716246625683347\n",
      "Epoch [14/20], MSE Loss: 0.4820699811819287, Log Loss: 0.021773894149504723\n",
      "Epoch [15/20], MSE Loss: 0.46719212324055354, Log Loss: 0.02184197432699611\n",
      "Epoch [16/20], MSE Loss: 0.4525353674726687, Log Loss: 0.021939787450977175\n",
      "Epoch [17/20], MSE Loss: 0.4397119840637582, Log Loss: 0.02199866369244505\n",
      "Epoch [18/20], MSE Loss: 0.42613887842700965, Log Loss: 0.022119080660912695\n",
      "Epoch [19/20], MSE Loss: 0.4137479643352696, Log Loss: 0.022176878531168998\n",
      "Epoch [20/20], MSE Loss: 0.39930562102682976, Log Loss: 0.022207283146627056\n"
     ]
    }
   ],
   "source": [
    "## Model 3. Based on total loss and non-randomized Data + 3 layers\n",
    "num_users = 943  # Total number of users\n",
    "num_items = 1682  # Total number of items\n",
    "emb_dim = 64  # Embedding dimension\n",
    "layers = 3  # Layer sizes for GCN\n",
    "\n",
    "modelNGCF_movielens_3 = NGCF_Final(emb_dim, layers, num_users, num_items)\n",
    "criterion = nn.MSELoss()  # or nn.BCELoss() for binary data\n",
    "optimizer = optim.Adam(modelNGCF_movielens_3.parameters(), lr=0.001)\n",
    "\n",
    "num_epochs = 20  # Number of training epochs\n",
    "mse_list_epoch_lens3 = []\n",
    "log_list_epoch_lens3 = []\n",
    "\n",
    "# Training loop\n",
    "for epoch in range(num_epochs):\n",
    "    modelNGCF_movielens_3.train()\n",
    "    mse_total_loss = 0\n",
    "    log_total_loss = 0\n",
    "\n",
    "    for user_indices, item_indices, ratings in train_loader_movielens:\n",
    "        # Forward pass\n",
    "        users_emb, item_emb, _,  _ = modelNGCF_movielens_3.encode(user_indices, item_indices, train_edge_index_lens)\n",
    "        outputs = torch.mul(users_emb, item_emb).sum(dim=1)\n",
    "        mse_loss = criterion(outputs.float(), ratings.float())\n",
    "        log_loss = -(torch.log(torch.sigmoid(outputs))).mean()\n",
    "        total_loss = mse_loss+log_loss\n",
    "\n",
    "        # Backward and optimize\n",
    "        optimizer.zero_grad()\n",
    "        total_loss.backward()\n",
    "        optimizer.step()\n",
    "\n",
    "        mse_total_loss += mse_loss.item()\n",
    "        log_total_loss += log_loss.item()\n",
    "\n",
    "    mse_list_epoch_lens3.append(round(mse_total_loss/len(train_loader_movielens),4))\n",
    "    log_list_epoch_lens3.append(log_total_loss/len(train_loader_movielens))\n",
    "\n",
    "    print(f\"Epoch [{epoch+1}/{num_epochs}], MSE Loss: {mse_total_loss/len(train_loader_movielens)}, Log Loss: {log_total_loss/len(train_loader_movielens)}\")"
   ]
  },
  {
   "cell_type": "code",
   "execution_count": 207,
   "metadata": {},
   "outputs": [
    {
     "name": "stdout",
     "output_type": "stream",
     "text": [
      "Epoch [1/20], MSE Loss: 12.319079299860872, Log Loss: 0.04227793823147444\n",
      "Epoch [2/20], MSE Loss: 0.7508443991808478, Log Loss: 0.0234586346013345\n",
      "Epoch [3/20], MSE Loss: 0.6491482664047974, Log Loss: 0.022462973379872443\n",
      "Epoch [4/20], MSE Loss: 0.6151716838257095, Log Loss: 0.022010066051393818\n",
      "Epoch [5/20], MSE Loss: 0.5944001932892364, Log Loss: 0.021855806076868635\n",
      "Epoch [6/20], MSE Loss: 0.5826470600637396, Log Loss: 0.02175228608732899\n",
      "Epoch [7/20], MSE Loss: 0.5716481002209058, Log Loss: 0.021606270236942473\n",
      "Epoch [8/20], MSE Loss: 0.5638138376856855, Log Loss: 0.02154650122572862\n",
      "Epoch [9/20], MSE Loss: 0.557303354946735, Log Loss: 0.021448256216716432\n",
      "Epoch [10/20], MSE Loss: 0.5501878266451788, Log Loss: 0.021417020529997152\n",
      "Epoch [11/20], MSE Loss: 0.5396246016723489, Log Loss: 0.021361692509760062\n",
      "Epoch [12/20], MSE Loss: 0.5314825911432575, Log Loss: 0.021377431049908073\n",
      "Epoch [13/20], MSE Loss: 0.5203124914990097, Log Loss: 0.021355327846922977\n",
      "Epoch [14/20], MSE Loss: 0.5145304693689949, Log Loss: 0.021405929887113304\n",
      "Epoch [15/20], MSE Loss: 0.5025041242254422, Log Loss: 0.021416543335141286\n",
      "Epoch [16/20], MSE Loss: 0.49028892434732135, Log Loss: 0.021455433764942078\n",
      "Epoch [17/20], MSE Loss: 0.47983108436475036, Log Loss: 0.02154031365377004\n",
      "Epoch [18/20], MSE Loss: 0.4666745056871508, Log Loss: 0.02158757494609864\n",
      "Epoch [19/20], MSE Loss: 0.45140466819881553, Log Loss: 0.021631951982578574\n",
      "Epoch [20/20], MSE Loss: 0.44258054490670107, Log Loss: 0.021762244106734944\n"
     ]
    }
   ],
   "source": [
    "## Model 4. Based on total loss and non-randomized Data + 4 layers\n",
    "num_users = 943  # Total number of users\n",
    "num_items = 1682  # Total number of items\n",
    "emb_dim = 64  # Embedding dimension\n",
    "layers = 4  # Layer sizes for GCN\n",
    "\n",
    "modelNGCF_movielens_4 = NGCF_Final(emb_dim, layers, num_users, num_items)\n",
    "criterion = nn.MSELoss()  # or nn.BCELoss() for binary data\n",
    "optimizer = optim.Adam(modelNGCF_movielens_4.parameters(), lr=0.001)\n",
    "\n",
    "num_epochs = 20  # Number of training epochs\n",
    "mse_list_epoch_lens4 = []\n",
    "log_list_epoch_lens4 = []\n",
    "\n",
    "# Training loop\n",
    "for epoch in range(num_epochs):\n",
    "    modelNGCF_movielens_4.train()\n",
    "    mse_total_loss = 0\n",
    "    log_total_loss = 0\n",
    "\n",
    "    for user_indices, item_indices, ratings in train_loader_movielens:\n",
    "        # Forward pass\n",
    "        users_emb, item_emb, _,  _ = modelNGCF_movielens_4.encode(user_indices, item_indices, train_edge_index_lens)\n",
    "        outputs = torch.mul(users_emb, item_emb).sum(dim=1)\n",
    "        mse_loss = criterion(outputs.float(), ratings.float())\n",
    "        log_loss = -(torch.log(torch.sigmoid(outputs))).mean()\n",
    "        total_loss = mse_loss+log_loss\n",
    "\n",
    "        # Backward and optimize\n",
    "        optimizer.zero_grad()\n",
    "        total_loss.backward()\n",
    "        optimizer.step()\n",
    "\n",
    "        mse_total_loss += mse_loss.item()\n",
    "        log_total_loss += log_loss.item()\n",
    "\n",
    "    mse_list_epoch_lens4.append(round(mse_total_loss/len(train_loader_movielens),4))\n",
    "    log_list_epoch_lens4.append(log_total_loss/len(train_loader_movielens))\n",
    "\n",
    "    print(f\"Epoch [{epoch+1}/{num_epochs}], MSE Loss: {mse_total_loss/len(train_loader_movielens)}, Log Loss: {log_total_loss/len(train_loader_movielens)}\")"
   ]
  },
  {
   "cell_type": "code",
   "execution_count": 253,
   "metadata": {},
   "outputs": [
    {
     "data": {
      "image/png": "[encoded data removed]",
      "text/plain": [
       "<Figure size 800x500 with 2 Axes>"
      ]
     },
     "metadata": {},
     "output_type": "display_data"
    }
   ],
   "source": [
    "## Visualization\n",
    "import matplotlib.pyplot as plt\n",
    "def plot_mse_log(mse_lists, log_lists):\n",
    "    fig, host = plt.subplots(figsize=(8,5), layout='constrained')\n",
    "    ax2 = host.twinx()\n",
    "    host.set_xlim(0, len(mse_lists))\n",
    "    host.set_ylim(min(mse_lists), max(mse_lists))\n",
    "    ax2.set_ylim(min(log_lists), max(log_lists))\n",
    "\n",
    "    host.set_xlabel(\"Epochs\")\n",
    "    host.set_ylabel(\"MSE\")\n",
    "    ax2.set_ylabel(\"Log Error\")\n",
    "    \n",
    "    host.plot(mse_lists, color= 'red', label= \"MSE\")\n",
    "    ax2.plot(log_lists, color = 'blue', label = 'Log Error')\n",
    "    \n",
    "    host.yaxis.label.set_color('red')\n",
    "    ax2.yaxis.label.set_color('blue')\n",
    "\n",
    "plot_mse_log(mse_list_epoch_lens0, log_list_epoch_lens0)"
   ]
  },
  {
   "cell_type": "code",
   "execution_count": 254,
   "metadata": {},
   "outputs": [
    {
     "data": {
      "image/png": "[encoded data removed]",
      "text/plain": [
       "<Figure size 800x500 with 2 Axes>"
      ]
     },
     "metadata": {},
     "output_type": "display_data"
    }
   ],
   "source": [
    "plot_mse_log(mse_list_epoch_lens1, log_list_epoch_lens1)"
   ]
  },
  {
   "cell_type": "code",
   "execution_count": 255,
   "metadata": {},
   "outputs": [
    {
     "data": {
      "image/png": "[encoded data removed]",
      "text/plain": [
       "<Figure size 800x500 with 2 Axes>"
      ]
     },
     "metadata": {},
     "output_type": "display_data"
    }
   ],
   "source": [
    "plot_mse_log(mse_list_epoch_lens2, log_list_epoch_lens2)"
   ]
  },
  {
   "cell_type": "code",
   "execution_count": 256,
   "metadata": {},
   "outputs": [
    {
     "data": {
      "image/png": "[encoded data removed]",
      "text/plain": [
       "<Figure size 800x500 with 2 Axes>"
      ]
     },
     "metadata": {},
     "output_type": "display_data"
    }
   ],
   "source": [
    "plot_mse_log(mse_list_epoch_lens3, log_list_epoch_lens3)"
   ]
  },
  {
   "cell_type": "code",
   "execution_count": 257,
   "metadata": {},
   "outputs": [
    {
     "data": {
      "image/png": "[encoded data removed]",
      "text/plain": [
       "<Figure size 800x500 with 2 Axes>"
      ]
     },
     "metadata": {},
     "output_type": "display_data"
    }
   ],
   "source": [
    "plot_mse_log(mse_list_epoch_lens4, log_list_epoch_lens4)"
   ]
  },
  {
   "cell_type": "markdown",
   "metadata": {
    "id": "EtPx92CvVsg1"
   },
   "source": [
    "### IMDB"
   ]
  },
  {
   "cell_type": "code",
   "execution_count": 266,
   "metadata": {},
   "outputs": [
    {
     "data": {
      "text/plain": [
       "tensor([[1279,   59, 1595,  ..., 8122, 6306, 6754],\n",
       "        [8735, 7689, 6727,  ..., 2139, 2472, 1565]])"
      ]
     },
     "execution_count": 266,
     "metadata": {},
     "output_type": "execute_result"
    }
   ],
   "source": [
    "import torch.optim as optim\n",
    "\n",
    "u = torch.LongTensor(train_data_imdb[0])\n",
    "i = torch.LongTensor(train_data_imdb[1]) + num_users\n",
    "\n",
    "train_edge_index_imdb = torch.stack((\n",
    "  torch.cat([u, i]),\n",
    "  torch.cat([i, u])\n",
    ")).to(device)\n",
    "\n",
    "train_edge_index_imdb"
   ]
  },
  {
   "cell_type": "code",
   "execution_count": 131,
   "metadata": {},
   "outputs": [
    {
     "name": "stdout",
     "output_type": "stream",
     "text": [
      "Epoch [1/20], MSE Loss: 0.5150999433574188, Log Loss: 0.32845722605665045\n",
      "Epoch [2/20], MSE Loss: 0.03776267736432064, Log Loss: 0.32703488347042037\n",
      "Epoch [3/20], MSE Loss: 0.019211105071008205, Log Loss: 0.3203970125640731\n",
      "Epoch [4/20], MSE Loss: 0.014778666658304542, Log Loss: 0.3192787895719689\n",
      "Epoch [5/20], MSE Loss: 0.012919734153582389, Log Loss: 0.3179596188556717\n",
      "Epoch [6/20], MSE Loss: 0.011927374548851007, Log Loss: 0.31783260099859123\n",
      "Epoch [7/20], MSE Loss: 0.010707815037479243, Log Loss: 0.3171402373945857\n",
      "Epoch [8/20], MSE Loss: 0.009914480632238359, Log Loss: 0.3169819486428456\n",
      "Epoch [9/20], MSE Loss: 0.009208234509520501, Log Loss: 0.31638730541769283\n",
      "Epoch [10/20], MSE Loss: 0.008729844236275158, Log Loss: 0.3164543656699629\n",
      "Epoch [11/20], MSE Loss: 0.00854986745033817, Log Loss: 0.3164432501218405\n",
      "Epoch [12/20], MSE Loss: 0.008143719695284065, Log Loss: 0.31607567258628017\n",
      "Epoch [13/20], MSE Loss: 0.008032228477882692, Log Loss: 0.3162634498383625\n",
      "Epoch [14/20], MSE Loss: 0.007603488155607, Log Loss: 0.3158157036965152\n",
      "Epoch [15/20], MSE Loss: 0.007260408241256892, Log Loss: 0.31589789706540394\n",
      "Epoch [16/20], MSE Loss: 0.007076981842113906, Log Loss: 0.3157487267471222\n",
      "Epoch [17/20], MSE Loss: 0.006629317336861628, Log Loss: 0.3155853475432798\n",
      "Epoch [18/20], MSE Loss: 0.006654882040548037, Log Loss: 0.3155295942203108\n",
      "Epoch [19/20], MSE Loss: 0.006368957112083234, Log Loss: 0.3156768557537033\n",
      "Epoch [20/20], MSE Loss: 0.0062268347793584125, Log Loss: 0.3154908781310162\n"
     ]
    }
   ],
   "source": [
    "## Model 0: MSE + Non-ramdom\n",
    "\n",
    "num_users = 5257  # Total number of users\n",
    "num_items = 4278  # Total number of items\n",
    "emb_dim = 64  # Embedding dimension\n",
    "layers = 2  # Layer sizes for GCN\n",
    "\n",
    "modelNGCFimdb0 = NGCF_Final(emb_dim, layers, num_users, num_items)\n",
    "criterion = nn.MSELoss()  # or nn.BCELoss() for binary data\n",
    "optimizer = optim.Adam(modelNGCFimdb0.parameters(), lr=0.001)\n",
    "\n",
    "num_epochs = 20  # Number of training epochs\n",
    "mse_list_epoch_imdb0 = []\n",
    "log_list_epoch_imdb0 = []\n",
    "\n",
    "# Training loop\n",
    "for epoch in range(num_epochs):\n",
    "    modelNGCFimdb0.train()\n",
    "    mse_total_loss = 0\n",
    "    log_total_loss = 0\n",
    "\n",
    "    for user_indices, item_indices, labels in train_loader_IMDB:\n",
    "        # Forward pass\n",
    "        users_emb, item_emb, _,  _ = modelNGCFimdb0.encode(user_indices, item_indices, train_edge_index_imdb)\n",
    "        outputs = torch.mul(users_emb, item_emb).sum(dim=1)\n",
    "        mse_loss = criterion(outputs.float(), labels.float())\n",
    "        log_loss = -(torch.log(torch.sigmoid(outputs))).mean()\n",
    "\n",
    "        # Backward and optimize\n",
    "        optimizer.zero_grad()\n",
    "        mse_loss.backward()\n",
    "        optimizer.step()\n",
    "\n",
    "        mse_total_loss += mse_loss.item()\n",
    "        log_total_loss += log_loss.item()\n",
    "\n",
    "    mse_list_epoch_imdb0.append(round(mse_total_loss/len(train_loader_IMDB),4))\n",
    "    log_list_epoch_imdb0.append(log_total_loss/len(train_loader_IMDB))\n",
    "\n",
    "    print(f\"Epoch [{epoch+1}/{num_epochs}], MSE Loss: {mse_total_loss/len(train_loader_IMDB)}, Log Loss: {log_total_loss/len(train_loader_IMDB)}\")"
   ]
  },
  {
   "cell_type": "code",
   "execution_count": 132,
   "metadata": {},
   "outputs": [
    {
     "name": "stdout",
     "output_type": "stream",
     "text": [
      "Epoch [1/20], MSE Loss: 0.35001468586634443, Log Loss: 0.3218453010342207\n",
      "Epoch [2/20], MSE Loss: 0.04959433718797672, Log Loss: 0.29635989306920985\n",
      "Epoch [3/20], MSE Loss: 0.03208737331162016, Log Loss: 0.2899659706885556\n",
      "Epoch [4/20], MSE Loss: 0.028841115938252712, Log Loss: 0.28752463768763714\n",
      "Epoch [5/20], MSE Loss: 0.026913003973573088, Log Loss: 0.28671693406909343\n",
      "Epoch [6/20], MSE Loss: 0.026101363688168757, Log Loss: 0.28648358834795207\n",
      "Epoch [7/20], MSE Loss: 0.025213763611503393, Log Loss: 0.2857905629887638\n",
      "Epoch [8/20], MSE Loss: 0.02463210111551256, Log Loss: 0.28547915241804467\n",
      "Epoch [9/20], MSE Loss: 0.023992329701242678, Log Loss: 0.2853790162557579\n",
      "Epoch [10/20], MSE Loss: 0.023308530719165343, Log Loss: 0.28489145780184183\n",
      "Epoch [11/20], MSE Loss: 0.02278564989297505, Log Loss: 0.28490043655935543\n",
      "Epoch [12/20], MSE Loss: 0.02278901549078614, Log Loss: 0.2844534063913736\n",
      "Epoch [13/20], MSE Loss: 0.022044075866151286, Log Loss: 0.28465156311012174\n",
      "Epoch [14/20], MSE Loss: 0.02208338025957346, Log Loss: 0.2844469654990966\n",
      "Epoch [15/20], MSE Loss: 0.02198696548276278, Log Loss: 0.2841821679149766\n",
      "Epoch [16/20], MSE Loss: 0.021452457655266106, Log Loss: 0.2841567512018135\n",
      "Epoch [17/20], MSE Loss: 0.021189456626054752, Log Loss: 0.28406310548265296\n",
      "Epoch [18/20], MSE Loss: 0.021067350351038468, Log Loss: 0.28397128560456886\n",
      "Epoch [19/20], MSE Loss: 0.020780751178691905, Log Loss: 0.283834821847548\n",
      "Epoch [20/20], MSE Loss: 0.020672178748680884, Log Loss: 0.28397363532020387\n"
     ]
    }
   ],
   "source": [
    "## Model 1: Total Loss + Non-ramdom\n",
    "\n",
    "num_users = 5257  # Total number of users\n",
    "num_items = 4278  # Total number of items\n",
    "emb_dim = 64  # Embedding dimension\n",
    "layers = 2  # Layer sizes for GCN\n",
    "\n",
    "modelNGCFimdb1 = NGCF_Final(emb_dim, layers, num_users, num_items)\n",
    "criterion = nn.MSELoss()  # or nn.BCELoss() for binary data\n",
    "optimizer = optim.Adam(modelNGCFimdb1.parameters(), lr=0.001)\n",
    "\n",
    "num_epochs = 20  # Number of training epochs\n",
    "mse_list_epoch_imdb1 = []\n",
    "log_list_epoch_imdb1 = []\n",
    "\n",
    "# Training loop\n",
    "for epoch in range(num_epochs):\n",
    "    modelNGCFimdb1.train()\n",
    "    mse_total_loss = 0\n",
    "    log_total_loss = 0\n",
    "\n",
    "    for user_indices, item_indices, labels in train_loader_IMDB:\n",
    "        # Forward pass\n",
    "        users_emb, item_emb, _,  _ = modelNGCFimdb1.encode(user_indices, item_indices, train_edge_index_imdb)\n",
    "        outputs = torch.mul(users_emb, item_emb).sum(dim=1)\n",
    "        mse_loss = criterion(outputs.float(), labels.float())\n",
    "        log_loss = -(torch.log(torch.sigmoid(outputs))).mean()\n",
    "        total_loss = mse_loss+log_loss\n",
    "\n",
    "        # Backward and optimize\n",
    "        optimizer.zero_grad()\n",
    "        total_loss.backward()\n",
    "        optimizer.step()\n",
    "\n",
    "        mse_total_loss += mse_loss.item()\n",
    "        log_total_loss += log_loss.item()\n",
    "\n",
    "    mse_list_epoch_imdb1.append(round(mse_total_loss/len(train_loader_IMDB),4))\n",
    "    log_list_epoch_imdb1.append(log_total_loss/len(train_loader_IMDB))\n",
    "\n",
    "    print(f\"Epoch [{epoch+1}/{num_epochs}], MSE Loss: {mse_total_loss/len(train_loader_IMDB)}, Log Loss: {log_total_loss/len(train_loader_IMDB)}\")"
   ]
  },
  {
   "cell_type": "code",
   "execution_count": 152,
   "metadata": {},
   "outputs": [
    {
     "name": "stdout",
     "output_type": "stream",
     "text": [
      "Epoch [1/20], MSE Loss: 2.5092536593551067, Log Loss: 0.0655272068150008\n",
      "Epoch [2/20], MSE Loss: 0.7821875018859977, Log Loss: 0.025905668485298086\n",
      "Epoch [3/20], MSE Loss: 0.6795405176148486, Log Loss: 0.024606494149610178\n",
      "Epoch [4/20], MSE Loss: 0.6523675522697505, Log Loss: 0.023496925775239718\n",
      "Epoch [5/20], MSE Loss: 0.6119438436493945, Log Loss: 0.023640251621159156\n",
      "Epoch [6/20], MSE Loss: 0.6047408478473549, Log Loss: 0.02320518411362349\n",
      "Epoch [7/20], MSE Loss: 0.5724878093199943, Log Loss: 0.02275128042631185\n",
      "Epoch [8/20], MSE Loss: 0.5489902202762774, Log Loss: 0.022881565281926697\n",
      "Epoch [9/20], MSE Loss: 0.5298982209234095, Log Loss: 0.023518330042264356\n",
      "Epoch [10/20], MSE Loss: 0.5096381382266088, Log Loss: 0.023729204547716612\n",
      "Epoch [11/20], MSE Loss: 0.49184885798995176, Log Loss: 0.02324167386030973\n",
      "Epoch [12/20], MSE Loss: 0.47176728052879446, Log Loss: 0.02343353020277486\n",
      "Epoch [13/20], MSE Loss: 0.44925781372767776, Log Loss: 0.02388100020253836\n",
      "Epoch [14/20], MSE Loss: 0.4486715918156638, Log Loss: 0.023520887843263682\n",
      "Epoch [15/20], MSE Loss: 0.41773199367879044, Log Loss: 0.023688179399095365\n",
      "Epoch [16/20], MSE Loss: 0.41441064316834975, Log Loss: 0.023643422566020665\n",
      "Epoch [17/20], MSE Loss: 0.3989113782768819, Log Loss: 0.02364181515885823\n",
      "Epoch [18/20], MSE Loss: 0.38430133106103587, Log Loss: 0.023967895517820744\n",
      "Epoch [19/20], MSE Loss: 0.3697450338904537, Log Loss: 0.02394962341371757\n",
      "Epoch [20/20], MSE Loss: 0.3844279669114013, Log Loss: 0.02399301009058063\n"
     ]
    }
   ],
   "source": [
    "## Model 2: Total Loss + Random 80%\n",
    "num_users = 5257  # Total number of users\n",
    "num_items = 4278  # Total number of items\n",
    "emb_dim = 64  # Embedding dimension\n",
    "layers = 2  # Layer sizes for GCN\n",
    "\n",
    "modelNGCFimdb2 = NGCF_Final(emb_dim, layers, num_users, num_items)\n",
    "criterion = nn.MSELoss()  # or nn.BCELoss() for binary data\n",
    "optimizer = optim.Adam(modelNGCFimdb2.parameters(), lr=0.001)\n",
    "\n",
    "num_epochs = 20  # Number of training epochs\n",
    "mse_list_epoch_imdb2 = []\n",
    "log_list_epoch_imdb2 = []\n",
    "\n",
    "# Training loop\n",
    "for epoch in range(num_epochs):\n",
    "    modelNGCFimdb2.train()\n",
    "    mse_total_loss = 0\n",
    "    log_total_loss = 0\n",
    "\n",
    "    for user_indices, item_indices, labels in train_loader_IMDB_10:\n",
    "        # Forward pass\n",
    "        users_emb, item_emb, _,  _ = modelNGCFimdb2.encode(user_indices, item_indices, train_edge_index_imdb)\n",
    "        outputs = torch.mul(users_emb, item_emb).sum(dim=1)\n",
    "        mse_loss = criterion(outputs.float(), labels.float())\n",
    "        log_loss = -(torch.log(torch.sigmoid(outputs))).mean()\n",
    "        total_loss = mse_loss+log_loss\n",
    "\n",
    "        # Backward and optimize\n",
    "        optimizer.zero_grad()\n",
    "        total_loss.backward()\n",
    "        optimizer.step()\n",
    "\n",
    "        mse_total_loss += mse_loss.item()\n",
    "        log_total_loss += log_loss.item()\n",
    "\n",
    "    mse_list_epoch_imdb2.append(round(mse_total_loss/len(train_loader_IMDB_10),4))\n",
    "    log_list_epoch_imdb2.append(log_total_loss/len(train_loader_IMDB_10))\n",
    "\n",
    "    print(f\"Epoch [{epoch+1}/{num_epochs}], MSE Loss: {mse_total_loss/len(train_loader_IMDB_10)}, Log Loss: {log_total_loss/len(train_loader_IMDB_10)}\")"
   ]
  },
  {
   "cell_type": "code",
   "execution_count": 138,
   "metadata": {},
   "outputs": [
    {
     "name": "stdout",
     "output_type": "stream",
     "text": [
      "Epoch [1/20], MSE Loss: 4.240331898342414, Log Loss: 0.2682797889483262\n",
      "Epoch [2/20], MSE Loss: 0.09997227514185102, Log Loss: 0.3066741278372615\n",
      "Epoch [3/20], MSE Loss: 0.05823018029332161, Log Loss: 0.2936676033290036\n",
      "Epoch [4/20], MSE Loss: 0.04262330717440829, Log Loss: 0.2897512995334993\n",
      "Epoch [5/20], MSE Loss: 0.03587615907371762, Log Loss: 0.28876407175178986\n",
      "Epoch [6/20], MSE Loss: 0.03217915030398283, Log Loss: 0.2873998489006456\n",
      "Epoch [7/20], MSE Loss: 0.029709180861891032, Log Loss: 0.28671783783349647\n",
      "Epoch [8/20], MSE Loss: 0.028065171137631656, Log Loss: 0.2861661490905716\n",
      "Epoch [9/20], MSE Loss: 0.026830485202820904, Log Loss: 0.2858053715114134\n",
      "Epoch [10/20], MSE Loss: 0.025902139382010483, Log Loss: 0.2857038034013955\n",
      "Epoch [11/20], MSE Loss: 0.02511245097561055, Log Loss: 0.2853469101779432\n",
      "Epoch [12/20], MSE Loss: 0.02468865577984287, Log Loss: 0.2851671490324549\n",
      "Epoch [13/20], MSE Loss: 0.024092881368046784, Log Loss: 0.28492569025740566\n",
      "Epoch [14/20], MSE Loss: 0.02381818860499974, Log Loss: 0.2849949264382742\n",
      "Epoch [15/20], MSE Loss: 0.023570145491555512, Log Loss: 0.28475821341376706\n",
      "Epoch [16/20], MSE Loss: 0.02298241150172719, Log Loss: 0.2846342888941248\n",
      "Epoch [17/20], MSE Loss: 0.022843685831470662, Log Loss: 0.2844722472041486\n",
      "Epoch [18/20], MSE Loss: 0.02246748642569565, Log Loss: 0.284316404038165\n",
      "Epoch [19/20], MSE Loss: 0.022108116377908063, Log Loss: 0.28437653866158913\n",
      "Epoch [20/20], MSE Loss: 0.022239033660166954, Log Loss: 0.2842168402240937\n"
     ]
    }
   ],
   "source": [
    "## Model 3: Total Loss + Non-ramdom + 3 layers\n",
    "num_users = 5257  # Total number of users\n",
    "num_items = 4278  # Total number of items\n",
    "emb_dim = 64  # Embedding dimension\n",
    "layers = 3  # Layer sizes for GCN\n",
    "\n",
    "modelNGCFimdb3 = NGCF_Final(emb_dim, layers, num_users, num_items)\n",
    "criterion = nn.MSELoss()  # or nn.BCELoss() for binary data\n",
    "optimizer = optim.Adam(modelNGCFimdb3.parameters(), lr=0.001)\n",
    "\n",
    "num_epochs = 20  # Number of training epochs\n",
    "mse_list_epoch_imdb3 = []\n",
    "log_list_epoch_imdb3 = []\n",
    "\n",
    "# Training loop\n",
    "for epoch in range(num_epochs):\n",
    "    modelNGCFimdb3.train()\n",
    "    mse_total_loss = 0\n",
    "    log_total_loss = 0\n",
    "\n",
    "    for user_indices, item_indices, labels in train_loader_IMDB:\n",
    "        # Forward pass\n",
    "        users_emb, item_emb, _,  _ = modelNGCFimdb3.encode(user_indices, item_indices, train_edge_index_imdb)\n",
    "        outputs = torch.mul(users_emb, item_emb).sum(dim=1)\n",
    "        mse_loss = criterion(outputs.float(), labels.float())\n",
    "        log_loss = -(torch.log(torch.sigmoid(outputs))).mean()\n",
    "        total_loss = mse_loss+log_loss\n",
    "\n",
    "        # Backward and optimize\n",
    "        optimizer.zero_grad()\n",
    "        total_loss.backward()\n",
    "        optimizer.step()\n",
    "\n",
    "        mse_total_loss += mse_loss.item()\n",
    "        log_total_loss += log_loss.item()\n",
    "\n",
    "    mse_list_epoch_imdb3.append(round(mse_total_loss/len(train_loader_IMDB),4))\n",
    "    log_list_epoch_imdb3.append(log_total_loss/len(train_loader_IMDB))\n",
    "\n",
    "    print(f\"Epoch [{epoch+1}/{num_epochs}], MSE Loss: {mse_total_loss/len(train_loader_IMDB)}, Log Loss: {log_total_loss/len(train_loader_IMDB)}\")"
   ]
  },
  {
   "cell_type": "code",
   "execution_count": 264,
   "metadata": {},
   "outputs": [
    {
     "name": "stdout",
     "output_type": "stream",
     "text": [
      "Epoch [1/20], MSE Loss: 9.915129515600492, Log Loss: 0.21294516379978642\n",
      "Epoch [2/20], MSE Loss: 0.22868870638580208, Log Loss: 0.31730075880705594\n",
      "Epoch [3/20], MSE Loss: 0.12569458818579293, Log Loss: 0.3050659420978592\n",
      "Epoch [4/20], MSE Loss: 0.07928481020302658, Log Loss: 0.29582788283566397\n",
      "Epoch [5/20], MSE Loss: 0.05923958742115871, Log Loss: 0.29257744694330606\n",
      "Epoch [6/20], MSE Loss: 0.04870662315333464, Log Loss: 0.29094968969563406\n",
      "Epoch [7/20], MSE Loss: 0.04119215782238058, Log Loss: 0.28943620783736906\n",
      "Epoch [8/20], MSE Loss: 0.037864673478775715, Log Loss: 0.28846688407013216\n",
      "Epoch [9/20], MSE Loss: 0.034670840948820114, Log Loss: 0.28772917748933813\n",
      "Epoch [10/20], MSE Loss: 0.031621406707598505, Log Loss: 0.2872156105845807\n",
      "Epoch [11/20], MSE Loss: 0.03095746042588389, Log Loss: 0.2864839693149888\n",
      "Epoch [12/20], MSE Loss: 0.029211895046643465, Log Loss: 0.2860446331730808\n",
      "Epoch [13/20], MSE Loss: 0.027902099180472904, Log Loss: 0.28580423758690615\n",
      "Epoch [14/20], MSE Loss: 0.027431614876511586, Log Loss: 0.28554884604660863\n",
      "Epoch [15/20], MSE Loss: 0.02639106239180967, Log Loss: 0.28542406228651485\n",
      "Epoch [16/20], MSE Loss: 0.025911530030958623, Log Loss: 0.28514243321246413\n",
      "Epoch [17/20], MSE Loss: 0.025528519515352077, Log Loss: 0.2853015546339104\n",
      "Epoch [18/20], MSE Loss: 0.024939716872142022, Log Loss: 0.28505159717008294\n",
      "Epoch [19/20], MSE Loss: 0.024889962927225125, Log Loss: 0.28491739874862765\n",
      "Epoch [20/20], MSE Loss: 0.024441163773726987, Log Loss: 0.2848358552858054\n"
     ]
    }
   ],
   "source": [
    "## Model 4: Total Loss + Non-ramdom + 4 layers\n",
    "num_users = 5257  # Total number of users\n",
    "num_items = 4278  # Total number of items\n",
    "emb_dim = 64  # Embedding dimension\n",
    "layers = 4  # Layer sizes for GCN\n",
    "\n",
    "modelNGCFimdb4 = NGCF_Final(emb_dim, layers, num_users, num_items)\n",
    "criterion = nn.MSELoss()  # or nn.BCELoss() for binary data\n",
    "optimizer = optim.Adam(modelNGCFimdb4.parameters(), lr=0.001)\n",
    "\n",
    "num_epochs = 20  # Number of training epochs\n",
    "mse_list_epoch_imdb4 = []\n",
    "log_list_epoch_imdb4 = []\n",
    "\n",
    "# Training loop\n",
    "for epoch in range(num_epochs):\n",
    "    modelNGCFimdb4.train()\n",
    "    mse_total_loss = 0\n",
    "    log_total_loss = 0\n",
    "\n",
    "    for user_indices, item_indices, labels in train_loader_IMDB:\n",
    "        # Forward pass\n",
    "        users_emb, item_emb, _,  _ = modelNGCFimdb4.encode(user_indices, item_indices, train_edge_index_imdb)\n",
    "        outputs = torch.mul(users_emb, item_emb).sum(dim=1)\n",
    "        mse_loss = criterion(outputs.float(), labels.float())\n",
    "        log_loss = -(torch.log(torch.sigmoid(outputs))).mean()\n",
    "        total_loss = mse_loss+log_loss\n",
    "\n",
    "        # Backward and optimize\n",
    "        optimizer.zero_grad()\n",
    "        total_loss.backward()\n",
    "        optimizer.step()\n",
    "\n",
    "        mse_total_loss += mse_loss.item()\n",
    "        log_total_loss += log_loss.item()\n",
    "\n",
    "    mse_list_epoch_imdb4.append(round(mse_total_loss/len(train_loader_IMDB),4))\n",
    "    log_list_epoch_imdb4.append(log_total_loss/len(train_loader_IMDB))\n",
    "\n",
    "    print(f\"Epoch [{epoch+1}/{num_epochs}], MSE Loss: {mse_total_loss/len(train_loader_IMDB)}, Log Loss: {log_total_loss/len(train_loader_IMDB)}\")"
   ]
  },
  {
   "cell_type": "code",
   "execution_count": 258,
   "metadata": {},
   "outputs": [
    {
     "data": {
      "image/png": "[encoded data removed]",
      "text/plain": [
       "<Figure size 800x500 with 2 Axes>"
      ]
     },
     "metadata": {},
     "output_type": "display_data"
    }
   ],
   "source": [
    "plot_mse_log(mse_list_epoch_imdb0, log_list_epoch_imdb0)"
   ]
  },
  {
   "cell_type": "code",
   "execution_count": 259,
   "metadata": {},
   "outputs": [
    {
     "data": {
      "image/png": "[encoded data removed]",
      "text/plain": [
       "<Figure size 800x500 with 2 Axes>"
      ]
     },
     "metadata": {},
     "output_type": "display_data"
    }
   ],
   "source": [
    "plot_mse_log(mse_list_epoch_imdb1, log_list_epoch_imdb1)"
   ]
  },
  {
   "cell_type": "code",
   "execution_count": 260,
   "metadata": {},
   "outputs": [
    {
     "data": {
      "image/png": "[encoded data removed]",
      "text/plain": [
       "<Figure size 800x500 with 2 Axes>"
      ]
     },
     "metadata": {},
     "output_type": "display_data"
    }
   ],
   "source": [
    "plot_mse_log(mse_list_epoch_imdb2, log_list_epoch_imdb2)"
   ]
  },
  {
   "cell_type": "code",
   "execution_count": 262,
   "metadata": {},
   "outputs": [
    {
     "data": {
      "image/png": "[encoded data removed]",
      "text/plain": [
       "<Figure size 800x500 with 2 Axes>"
      ]
     },
     "metadata": {},
     "output_type": "display_data"
    }
   ],
   "source": [
    "plot_mse_log(mse_list_epoch_imdb3, log_list_epoch_imdb3)"
   ]
  },
  {
   "cell_type": "code",
   "execution_count": 261,
   "metadata": {},
   "outputs": [
    {
     "data": {
      "image/png": "[encoded data removed]",
      "text/plain": [
       "<Figure size 800x500 with 2 Axes>"
      ]
     },
     "metadata": {},
     "output_type": "display_data"
    }
   ],
   "source": [
    "plot_mse_log(mse_list_epoch_imdb4, log_list_epoch_imdb4)"
   ]
  },
  {
   "cell_type": "markdown",
   "metadata": {
    "id": "EGrgbcrPVZRY"
   },
   "source": [
    "# Part 5. Model Evaluation"
   ]
  },
  {
   "cell_type": "markdown",
   "metadata": {
    "id": "EGrgbcrPVZRY"
   },
   "source": [
    "### Movie Lens"
   ]
  },
  {
   "cell_type": "code",
   "execution_count": 170,
   "metadata": {
    "scrolled": true
   },
   "outputs": [],
   "source": [
    "## Model Evaluation\n",
    "\n",
    "test_dataset_lens = MovieLensDataset(test_data_lens[0], test_data_lens[1], test_data_lens[2])  # Assuming test_data is prepared\n",
    "test_sampler_lens = RandomSampler(test_dataset_lens, num_samples = 1240)\n",
    "test_loader_lens = DataLoader(test_dataset_lens, batch_size=124, sampler = test_sampler_lens)  # Batch size can be adjusted\n",
    "num_users = 943  # Total number of users\n",
    "num_items = 1682  # Total number of items\n",
    "\n",
    "def evaluate_model(model, test_loader, criterion, test_run, num_users, num_items, train_egde_index):\n",
    "    model.eval()  \n",
    "    avg_loss_list = []\n",
    "    \n",
    "    with torch.no_grad():  \n",
    "        for i in range(test_run):\n",
    "            total_loss = 0\n",
    "            for user_indices, item_indices, ratings in test_loader:\n",
    "                \n",
    "                _, out = model(train_egde_index)\n",
    "                final_user_Embed, final_item_Embed = torch.split(out, (num_users, num_items))\n",
    "                output = final_user_Embed@torch.transpose(final_item_Embed, 0, 1)\n",
    "                pred = output[user_indices, item_indices]\n",
    "                \n",
    "                loss = criterion(pred.float(), ratings.float())\n",
    "                total_loss += loss.item()\n",
    "                \n",
    "            avg_loss = total_loss / len(test_loader)\n",
    "            avg_loss_list.append(avg_loss)\n",
    "            \n",
    "    return avg_loss_list"
   ]
  },
  {
   "cell_type": "code",
   "execution_count": 171,
   "metadata": {},
   "outputs": [
    {
     "name": "stdout",
     "output_type": "stream",
     "text": [
      "Test Loss: [1.6672998428344727, 1.842763566970825, 1.549820226430893, 1.4717398047447205, 1.7297109246253968, 1.5101947903633117, 1.7145683765411377, 1.7150878429412841, 1.726213848590851, 1.517955207824707]\n"
     ]
    }
   ],
   "source": [
    "criterion = nn.MSELoss() \n",
    "test_loss0_lens = evaluate_model(modelNGCF_movielens_0, test_loader_lens, criterion, 10, num_users, num_items, train_edge_index_lens)\n",
    "print(f\"Test Loss: {test_loss0_lens}\")"
   ]
  },
  {
   "cell_type": "code",
   "execution_count": 172,
   "metadata": {},
   "outputs": [
    {
     "name": "stdout",
     "output_type": "stream",
     "text": [
      "Test Loss: [1.2494232177734375, 1.4497269153594972, 1.475381964445114, 1.2873355746269226, 1.4888604581356049, 1.18052134513855, 1.1724390149116517, 1.4107516705989838, 1.2381884932518006, 1.225485360622406]\n"
     ]
    }
   ],
   "source": [
    "criterion = nn.MSELoss() \n",
    "test_loss1_lens = evaluate_model(modelNGCF_movielens_1, test_loader_lens, criterion, 10, num_users, num_items, train_edge_index_lens)\n",
    "print(f\"Test Loss: {test_loss1_lens}\")"
   ]
  },
  {
   "cell_type": "code",
   "execution_count": 187,
   "metadata": {},
   "outputs": [
    {
     "name": "stdout",
     "output_type": "stream",
     "text": [
      "Test Loss: [5.619569396972656, 5.482904052734375, 5.397714281082154, 5.486396980285645, 5.544894218444824, 5.227138543128968, 5.611734390258789, 5.583446884155274, 5.5744194984436035, 5.415269804000855]\n"
     ]
    }
   ],
   "source": [
    "criterion = nn.MSELoss() \n",
    "test_loss2_lens = evaluate_model(modelNGCF_movielens_2, test_loader_lens, criterion, 10, num_users, num_items, train_edge_index_lens)\n",
    "print(f\"Test Loss: {test_loss2_lens}\")"
   ]
  },
  {
   "cell_type": "code",
   "execution_count": 205,
   "metadata": {},
   "outputs": [
    {
     "name": "stdout",
     "output_type": "stream",
     "text": [
      "Test Loss: [1.1248229801654817, 1.0830177068710327, 1.0988292753696443, 1.096104383468628, 1.110415768623352, 1.0478904247283936, 1.1098858833312988, 1.0724697709083557, 1.1868705749511719, 1.1119633674621583]\n"
     ]
    }
   ],
   "source": [
    "criterion = nn.MSELoss() \n",
    "test_loss3_lens = evaluate_model(modelNGCF_movielens_3, test_loader_lens, criterion, 10, num_users, num_items, train_edge_index_lens)\n",
    "print(f\"Test Loss: {test_loss3_lens}\")"
   ]
  },
  {
   "cell_type": "code",
   "execution_count": 210,
   "metadata": {},
   "outputs": [
    {
     "name": "stdout",
     "output_type": "stream",
     "text": [
      "Test Loss: [0.8304283142089843, 0.795781946182251, 0.8060581028461457, 0.8091281354427338, 0.8802952468395233, 0.8040488958358765, 0.8151680648326873, 0.8247247993946075, 0.8286162674427032, 0.8544018149375916]\n"
     ]
    }
   ],
   "source": [
    "criterion = nn.MSELoss() \n",
    "test_loss4_lens = evaluate_model(modelNGCF_movielens_4, test_loader_lens, criterion, 10, num_users, num_items, train_edge_index_lens)\n",
    "print(f\"Test Loss: {test_loss4_lens}\")"
   ]
  },
  {
   "cell_type": "code",
   "execution_count": 211,
   "metadata": {},
   "outputs": [
    {
     "name": "stdout",
     "output_type": "stream",
     "text": [
      "Model 0, std: 0.11684192717075348; Mean: 1.6445354223251343\n"
     ]
    }
   ],
   "source": [
    "std0_lens = np.std(test_loss0_lens, dtype = np.float32)\n",
    "mean0_lens = np.mean(test_loss0_lens, dtype = np.float32)\n",
    "\n",
    "print(f\"Model 0, std: {std0_lens}; Mean: {mean0_lens}\")"
   ]
  },
  {
   "cell_type": "code",
   "execution_count": 212,
   "metadata": {},
   "outputs": [
    {
     "name": "stdout",
     "output_type": "stream",
     "text": [
      "Model 1, std: 0.11856524646282196; Mean: 1.317811369895935\n"
     ]
    }
   ],
   "source": [
    "std1_lens = np.std(test_loss1_lens, dtype = np.float32)\n",
    "mean1_lens = np.mean(test_loss1_lens, dtype = np.float32)\n",
    "\n",
    "print(f\"Model 1, std: {std1_lens}; Mean: {mean1_lens}\")"
   ]
  },
  {
   "cell_type": "code",
   "execution_count": 213,
   "metadata": {},
   "outputs": [
    {
     "name": "stdout",
     "output_type": "stream",
     "text": [
      "Model 2, std: 0.11556446552276611; Mean: 5.494349002838135\n"
     ]
    }
   ],
   "source": [
    "std2_lens = np.std(test_loss2_lens, dtype = np.float32)\n",
    "mean2_lens = np.mean(test_loss2_lens, dtype = np.float32)\n",
    "\n",
    "print(f\"Model 2, std: {std2_lens}; Mean: {mean2_lens}\")"
   ]
  },
  {
   "cell_type": "code",
   "execution_count": 214,
   "metadata": {},
   "outputs": [
    {
     "name": "stdout",
     "output_type": "stream",
     "text": [
      "Model 3, std: 0.03480173647403717; Mean: 1.104227066040039\n"
     ]
    }
   ],
   "source": [
    "std3_lens = np.std(test_loss3_lens, dtype = np.float32)\n",
    "mean3_lens = np.mean(test_loss3_lens, dtype = np.float32)\n",
    "\n",
    "print(f\"Model 3, std: {std3_lens}; Mean: {mean3_lens}\")"
   ]
  },
  {
   "cell_type": "code",
   "execution_count": 217,
   "metadata": {},
   "outputs": [
    {
     "name": "stdout",
     "output_type": "stream",
     "text": [
      "Model 4, std: 0.024422306567430496; Mean: 0.8248651623725891\n"
     ]
    }
   ],
   "source": [
    "std4_lens = np.std(test_loss4_lens, dtype = np.float32)\n",
    "mean4_lens = np.mean(test_loss4_lens, dtype = np.float32)\n",
    "\n",
    "print(f\"Model 4, std: {std4_lens}; Mean: {mean4_lens}\")"
   ]
  },
  {
   "cell_type": "markdown",
   "metadata": {
    "id": "EGrgbcrPVZRY"
   },
   "source": [
    "### IMDB"
   ]
  },
  {
   "cell_type": "code",
   "execution_count": 188,
   "metadata": {},
   "outputs": [],
   "source": [
    "## Model Evaluation\n",
    "\n",
    "test_dataset_imdb = IMDBDataset(test_data_imdb[0], test_data_imdb[1], test_data_imdb[2])\n",
    "test_sampler_imdb = RandomSampler(test_dataset_imdb, num_samples = 1240)\n",
    "test_loader_imdb = DataLoader(test_dataset_imdb, batch_size=124, sampler = test_sampler_imdb) \n",
    "\n",
    "num_users = 5257 \n",
    "num_items = 4278"
   ]
  },
  {
   "cell_type": "code",
   "execution_count": 189,
   "metadata": {},
   "outputs": [
    {
     "name": "stdout",
     "output_type": "stream",
     "text": [
      "Test Loss: [0.03884047269821167, 0.037674691528081894, 0.03716768268495798, 0.03772774040699005, 0.03953775577247143, 0.03972603902220726, 0.03974062204360962, 0.03928567580878735, 0.037737407721579075, 0.03862816765904427]\n"
     ]
    }
   ],
   "source": [
    "criterion = nn.MSELoss() \n",
    "test_loss0_imdb = evaluate_model(modelNGCFimdb0, test_loader_imdb, criterion, 10, num_users, num_items, train_edge_index_imdb)\n",
    "print(f\"Test Loss: {test_loss0_imdb}\")### Movie Lens Data"
   ]
  },
  {
   "cell_type": "code",
   "execution_count": 190,
   "metadata": {},
   "outputs": [
    {
     "name": "stdout",
     "output_type": "stream",
     "text": [
      "Test Loss: [0.034042243473231794, 0.03346501290798187, 0.034226220846176145, 0.03314858842641115, 0.03352856319397688, 0.03270263932645321, 0.03340212441980839, 0.03388475757092237, 0.03442235998809338, 0.03427987676113844]\n"
     ]
    }
   ],
   "source": [
    "criterion = nn.MSELoss() \n",
    "test_loss1_imdb = evaluate_model(modelNGCFimdb1, test_loader_imdb, criterion, 10, num_users, num_items, train_edge_index_imdb)\n",
    "print(f\"Test Loss: {test_loss1_imdb}\")### Movie Lens Data"
   ]
  },
  {
   "cell_type": "code",
   "execution_count": 191,
   "metadata": {},
   "outputs": [
    {
     "name": "stdout",
     "output_type": "stream",
     "text": [
      "Test Loss: [5.12469973564148, 5.167814683914185, 5.132319021224975, 5.096530532836914, 5.177695322036743, 5.119025182723999, 5.129123783111572, 5.133041477203369, 5.1417022228240965, 5.119980049133301]\n"
     ]
    }
   ],
   "source": [
    "criterion = nn.MSELoss() \n",
    "test_loss2_imdb = evaluate_model(modelNGCFimdb2, test_loader_imdb, criterion, 10, num_users, num_items, train_edge_index_imdb)\n",
    "print(f\"Test Loss: {test_loss2_imdb}\")### Movie Lens Data"
   ]
  },
  {
   "cell_type": "code",
   "execution_count": 192,
   "metadata": {},
   "outputs": [
    {
     "name": "stdout",
     "output_type": "stream",
     "text": [
      "Test Loss: [0.03231302965432405, 0.030756087973713875, 0.03145610745996237, 0.032832343876361844, 0.031462402641773225, 0.03204908557236195, 0.03142616804689169, 0.03179107680916786, 0.031244946271181108, 0.03265952914953232]\n"
     ]
    }
   ],
   "source": [
    "criterion = nn.MSELoss() \n",
    "test_loss3_imdb = evaluate_model(modelNGCFimdb3, test_loader_imdb, criterion, 10, num_users, num_items, train_edge_index_imdb)\n",
    "print(f\"Test Loss: {test_loss3_imdb}\")### Movie Lens Data"
   ]
  },
  {
   "cell_type": "code",
   "execution_count": 193,
   "metadata": {},
   "outputs": [
    {
     "name": "stdout",
     "output_type": "stream",
     "text": [
      "Test Loss: [0.023112956061959268, 0.02424431461840868, 0.024362763576209544, 0.022910838946700096, 0.023933080956339836, 0.02432381045073271, 0.02398747522383928, 0.025341321341693403, 0.02476460821926594, 0.024640517868101598]\n"
     ]
    }
   ],
   "source": [
    "criterion = nn.MSELoss() \n",
    "test_loss4_imdb = evaluate_model(modelNGCFimdb4, test_loader_imdb, criterion, 10, num_users, num_items, train_edge_index_imdb)\n",
    "print(f\"Test Loss: {test_loss4_imdb}\")### Movie Lens Data"
   ]
  },
  {
   "cell_type": "code",
   "execution_count": 194,
   "metadata": {},
   "outputs": [
    {
     "name": "stdout",
     "output_type": "stream",
     "text": [
      "Model 0, std: 0.000915932992938906; Mean: 0.03860662132501602\n"
     ]
    }
   ],
   "source": [
    "std0_imdb = np.std(test_loss0_imdb, dtype = np.float32)\n",
    "mean0_imdb = np.mean(test_loss0_imdb, dtype = np.float32)\n",
    "\n",
    "print(f\"Model 0, std: {std0_imdb}; Mean: {mean0_imdb}\")"
   ]
  },
  {
   "cell_type": "code",
   "execution_count": 196,
   "metadata": {
    "scrolled": true
   },
   "outputs": [
    {
     "name": "stdout",
     "output_type": "stream",
     "text": [
      "Model 1, std: 0.0005251009133644402; Mean: 0.033710237592458725\n"
     ]
    }
   ],
   "source": [
    "std1_imdb = np.std(test_loss1_imdb, dtype = np.float32)\n",
    "mean1_imdb = np.mean(test_loss1_imdb, dtype = np.float32)\n",
    "\n",
    "print(f\"Model 1, std: {std1_imdb}; Mean: {mean1_imdb}\")"
   ]
  },
  {
   "cell_type": "code",
   "execution_count": 270,
   "metadata": {},
   "outputs": [
    {
     "name": "stdout",
     "output_type": "stream",
     "text": [
      "Model 2, std: 0.0022473199293017387; Mean: 0.05134192943572998\n"
     ]
    }
   ],
   "source": [
    "std2_imdb = np.std(test_loss2_imdb, dtype = np.float32)\n",
    "mean2_imdb = np.mean(test_loss2_imdb, dtype = np.float32)\n",
    "\n",
    "print(f\"Model 2, std: {std2_imdb}; Mean: {mean2_imdb}\")"
   ]
  },
  {
   "cell_type": "code",
   "execution_count": 198,
   "metadata": {},
   "outputs": [
    {
     "name": "stdout",
     "output_type": "stream",
     "text": [
      "Model 3, std: 0.000915932992938906; Mean: 0.03860662132501602\n"
     ]
    }
   ],
   "source": [
    "std3_imdb = np.std(test_loss3_imdb, dtype = np.float32)\n",
    "mean3_imdb = np.mean(test_loss3_imdb, dtype = np.float32)\n",
    "\n",
    "print(f\"Model 3, std: {std0_imdb}; Mean: {mean0_imdb}\")"
   ]
  },
  {
   "cell_type": "code",
   "execution_count": 201,
   "metadata": {},
   "outputs": [
    {
     "name": "stdout",
     "output_type": "stream",
     "text": [
      "Model 4, std: 0.0006931766984052956; Mean: 0.02416216768324375\n"
     ]
    }
   ],
   "source": [
    "std4_imdb = np.std(test_loss4_imdb, dtype = np.float32)\n",
    "mean4_imdb = np.mean(test_loss4_imdb, dtype = np.float32)\n",
    "\n",
    "print(f\"Model 4, std: {std4_imdb}; Mean: {mean4_imdb}\")"
   ]
  }
 ],
 "metadata": {
  "colab": {
   "provenance": []
  },
  "kernelspec": {
   "display_name": "Python 3 (ipykernel)",
   "language": "python",
   "name": "python3"
  },
  "language_info": {
   "codemirror_mode": {
    "name": "ipython",
    "version": 3
   },
   "file_extension": ".py",
   "mimetype": "text/x-python",
   "name": "python",
   "nbconvert_exporter": "python",
   "pygments_lexer": "ipython3",
   "version": "3.11.4"
  }
 },
 "nbformat": 4,
 "nbformat_minor": 1
}
